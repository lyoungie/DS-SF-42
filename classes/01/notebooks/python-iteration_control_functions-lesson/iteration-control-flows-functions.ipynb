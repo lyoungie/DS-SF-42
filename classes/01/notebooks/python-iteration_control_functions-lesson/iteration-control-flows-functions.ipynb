{
 "cells": [
  {
   "cell_type": "markdown",
   "metadata": {},
   "source": [
    "<img src=\"http://imgur.com/1ZcRyrc.png\" style=\"float: left; margin: 20px; height: 55px\">\n",
    "\n",
    "# Review python iteration, control flows, and functions\n",
    "\n",
    "_Author: Kiefer Katovich (SF) and Dave Yerrington (SF)_\n",
    "\n",
    "---\n",
    "\n",
    "\n",
    "\n",
    "\n",
    "### Learning Objectives\n",
    " \n",
    "- Explore `Python` control flow and conditional programming.  \n",
    "- Implement `For` and `While` loops to iterate through data structures.\n",
    "- Apply `if, else` conditional statements.\n",
    "- Create functions to perform repetitive actions.\n",
    "- Demonstrate error-handling using `try, except` statements.\n",
    "- Combine control flow and conditional statements to solve the classic \"FizzBuzz\" code challenge.\n",
    "- Use `Python` control flow and functions to help us parse, clean, edit and analyze the Coffee Preferences dataset.\n",
    "\n",
    "---\n",
    "### Lesson Guide\n",
    "\n",
    "- [If Else Statement](#if_else_statements)\n",
    "- [Iterating With For Loops](#for_loops)\n",
    "- [FizzBuzz](#fizz_buzz)\n",
    "- [Functions](#functions)\n",
    "- [While Loops](#while_loops)\n",
    "- [Practice control flow on Coffee Preference dataset](#coffee_preference)\n"
   ]
  },
  {
   "cell_type": "code",
   "execution_count": 1,
   "metadata": {
    "collapsed": true
   },
   "outputs": [],
   "source": [
    "import numpy as np"
   ]
  },
  {
   "cell_type": "markdown",
   "metadata": {},
   "source": [
    "<a id='if_else_statements'></a>\n",
    "\n",
    "# If, Else Statements"
   ]
  },
  {
   "cell_type": "markdown",
   "metadata": {},
   "source": [
    "---\n",
    "\n",
    "### 1. Write an if-else statement to check whether the suitcase is over 50lb.\n",
    "\n",
    "Print a message indicating whether or not the suitcase is over 50lbs."
   ]
  },
  {
   "cell_type": "code",
<<<<<<< HEAD
   "execution_count": 2,
=======
   "execution_count": 3,
>>>>>>> origin/master
   "metadata": {},
   "outputs": [
    {
     "name": "stdout",
     "output_type": "stream",
     "text": [
      "How many pounds does your suitcase weigh? 50\n"
     ]
    }
   ],
   "source": [
    "weight = float(input(\"How many pounds does your suitcase weigh? \"))"
   ]
  },
  {
   "cell_type": "code",
   "execution_count": 9,
   "metadata": {},
   "outputs": [
    {
     "name": "stdout",
     "output_type": "stream",
     "text": [
      "How many pounds does your suitcase weigh? 34\n",
      "Under 50 lbs\n"
     ]
    }
   ],
   "source": [
    "weight = float(input(\"How many pounds does your suitcase weigh? \"))\n",
    "\n",
    "if weight > 50:\n",
    "    print(\"Over 50 lbs\")\n",
    "else: print(\"Under 50 lbs\")"
   ]
  },
  {
   "cell_type": "code",
   "execution_count": null,
   "metadata": {
    "collapsed": true
   },
   "outputs": [],
   "source": [
    "# input takes "
   ]
  },
  {
   "cell_type": "markdown",
   "metadata": {},
   "source": [
    "---\n",
    "\n",
    "### 2. Write an if-else statement for multiple conditions.\n",
    "\n",
    "Print out these recommendations based on the weather conditions:\n",
    "\n",
    "1. The temperature is higher than 60 degrees and it is raining: Bring an umbrella.\n",
    "2. The temperature is lower than or equal to 60 degrees and it is raining: Bring an umbrella and a jacket.\n",
    "3. The temperature is higher than 60 degrees and the sun is shining: Wear a T-shirt.\n",
    "4. The temperature is lower than or equal to 60 degrees and the sun is shining: Bring a jacket."
   ]
  },
  {
   "cell_type": "code",
<<<<<<< HEAD
   "execution_count": 4,
=======
   "execution_count": 10,
>>>>>>> origin/master
   "metadata": {},
   "outputs": [
    {
     "name": "stdout",
     "output_type": "stream",
     "text": [
      "What is the temperature? 50\n",
      "What is the weather? (rain or shine) rain\n"
     ]
    }
   ],
   "source": [
    "temperature = float(input('What is the temperature? '))\n",
    "weather = raw_input('What is the weather? (rain or shine) ')"
   ]
  },
  {
   "cell_type": "code",
<<<<<<< HEAD
   "execution_count": 2,
   "metadata": {
    "collapsed": true
   },
   "outputs": [],
=======
   "execution_count": 14,
   "metadata": {},
   "outputs": [
    {
     "name": "stdout",
     "output_type": "stream",
     "text": [
      "Bring umbrella and a jacket\n"
     ]
    }
   ],
>>>>>>> origin/master
   "source": [
    "if temperature > 60 and weather == 'rain':\n",
    "    print('Bring an umbrella')\n",
    "if temperature <= 60 and weather == 'rain':\n",
    "    print(\"Bring umbrella and a jacket\")\n",
    "if temperature > 60 and weather == 'shine':\n",
    "    print('Wear a T-shirt')\n",
    "if temperature <= 60 and weather =='shine':\n",
    "    print('Bring a jacket')"
   ]
  },
  {
   "cell_type": "markdown",
   "metadata": {},
   "source": [
    "---\n",
    "<a id='for_loops'></a>\n",
    "# For Loops\n",
    "\n",
    "---\n",
    "### 3. Write a `for`-loop that iterates from the number 1 to the number 15.\n",
    "\n",
    "On each iteration, print out the number."
   ]
  },
  {
   "cell_type": "code",
<<<<<<< HEAD
   "execution_count": 3,
   "metadata": {
    "collapsed": true
   },
   "outputs": [],
=======
   "execution_count": 14,
   "metadata": {},
   "outputs": [
    {
     "name": "stdout",
     "output_type": "stream",
     "text": [
      "1\n",
      "2\n",
      "3\n",
      "4\n",
      "5\n",
      "6\n",
      "7\n",
      "8\n",
      "9\n",
      "10\n",
      "11\n",
      "12\n",
      "13\n",
      "14\n",
      "15\n",
      "1\n",
      "2\n",
      "3\n",
      "4\n",
      "5\n",
      "6\n",
      "7\n",
      "8\n",
      "9\n",
      "10\n",
      "11\n",
      "12\n",
      "13\n",
      "14\n",
      "15\n"
     ]
    }
   ],
>>>>>>> origin/master
   "source": [
    "numbers = (1,2,3,4,5,6,7,8,9,10,11,12,13,14,15)\n",
    "\n",
    "for i in numbers:\n",
    "    count = 0\n",
    "    print(i)\n",
    "    \n",
    "#other way\n",
    "for i in range(1,16):\n",
    "    print i"
   ]
  },
  {
   "cell_type": "markdown",
   "metadata": {},
   "source": [
    "---\n",
    "\n",
    "### 4. Iterate from 1 to 15, printing whether the number is odd or even.\n",
    "\n",
    "Hint: The modulus operator, `%`, can be used to take the remainder. For example:\n",
    "\n",
    "```python\n",
    "9 % 5 == 4\n",
    "```\n",
    "\n",
    "Or in other words, the remainder of dividing 9 by 5 is 4. "
   ]
  },
  {
   "cell_type": "code",
<<<<<<< HEAD
   "execution_count": 4,
   "metadata": {
    "collapsed": true
   },
   "outputs": [],
=======
   "execution_count": 17,
   "metadata": {},
   "outputs": [
    {
     "name": "stdout",
     "output_type": "stream",
     "text": [
      "odd\n",
      "even\n",
      "odd\n",
      "even\n",
      "odd\n",
      "even\n",
      "odd\n",
      "even\n",
      "odd\n",
      "even\n",
      "odd\n",
      "even\n",
      "odd\n",
      "even\n",
      "odd\n",
      "1 is odd\n",
      "2 is even\n",
      "3 is odd\n",
      "4 is even\n",
      "5 is odd\n",
      "6 is even\n",
      "7 is odd\n",
      "8 is even\n",
      "9 is odd\n",
      "10 is even\n",
      "11 is odd\n",
      "12 is even\n",
      "13 is odd\n",
      "14 is even\n",
      "15 is odd\n"
     ]
    }
   ],
>>>>>>> origin/master
   "source": [
    "numbers = (1,2,3,4,5,6,7,8,9,10,11,12,13,14,15)\n",
    "\n",
    "for i in numbers:\n",
    "    if i % 2 == 0:\n",
    "        print 'even'\n",
    "    else:\n",
    "        print 'odd'\n",
    "        \n",
    "# Other way\n",
    "\n",
    "for i in range(1,16):\n",
    "    if i % 2:\n",
    "        print i, 'is odd'\n",
    "    else:\n",
    "        print i, 'is even'"
   ]
  },
  {
   "cell_type": "markdown",
   "metadata": {},
   "source": [
    "---\n",
    "<a id='fizz_buzz'></a>\n",
    "### 5. Iterate from 1 to 30 with the following instructions:\n",
    "\n",
    "1. If a number is divisible by 3, print 'fizz'. \n",
    "2. If a number is divisible by 5, print 'buzz'. \n",
    "3. If a number is both divisible by 3 and 5 print 'fizzbuzz'.\n",
    "4. Otherwise, print just the number."
   ]
  },
  {
   "cell_type": "code",
<<<<<<< HEAD
   "execution_count": 5,
   "metadata": {
    "collapsed": true
   },
   "outputs": [],
=======
   "execution_count": 18,
   "metadata": {},
   "outputs": [
    {
     "name": "stdout",
     "output_type": "stream",
     "text": [
      "1\n",
      "2\n",
      "fizz\n",
      "3\n",
      "4\n",
      "buzz\n",
      "5\n",
      "fizz\n",
      "6\n",
      "7\n",
      "8\n",
      "fizz\n",
      "9\n",
      "buzz\n",
      "10\n",
      "11\n",
      "fizz\n",
      "12\n",
      "13\n",
      "14\n",
      "fizz\n",
      "buzz\n",
      "fizzbuzz\n",
      "16\n",
      "17\n",
      "fizz\n",
      "18\n",
      "19\n",
      "buzz\n",
      "20\n",
      "fizz\n",
      "21\n",
      "22\n",
      "23\n",
      "fizz\n",
      "24\n",
      "buzz\n",
      "25\n",
      "26\n",
      "fizz\n",
      "27\n",
      "28\n",
      "29\n",
      "fizz\n",
      "buzz\n",
      "fizzbuzz\n",
      "1\n",
      "2\n",
      "3 fizz\n",
      "4\n",
      "5 buzz\n",
      "6 fizz\n",
      "7\n",
      "8\n",
      "9 fizz\n",
      "10 buzz\n",
      "11\n",
      "12 fizz\n",
      "13\n",
      "14\n",
      "15 fizzbuzz\n",
      "16\n",
      "17\n",
      "18 fizz\n",
      "19\n",
      "20 buzz\n",
      "21 fizz\n",
      "22\n",
      "23\n",
      "24 fizz\n",
      "25 buzz\n",
      "26\n",
      "27 fizz\n",
      "28\n",
      "29\n",
      "30 fizzbuzz\n"
     ]
    }
   ],
>>>>>>> origin/master
   "source": [
    "numbers = (1,2,3,4,5,6,7,8,9,10,11,12,13,14,15,16,17,18,19,20,21,22,23,24,25,26,27,28,29,30)\n",
    "\n",
    "for i in numbers:\n",
    "    if i % 3 == 0:\n",
    "        print 'fizz'\n",
    "    if i % 5 == 0:\n",
    "        print 'buzz'\n",
    "    if i % 3 == 0 and i % 5 == 0:\n",
    "        print 'fizzbuzz'\n",
    "    else:\n",
    "        print i\n",
    "        \n",
    "# Other way\n",
    "\n",
    "for i in range(1,31):\n",
    "    if (not i % 3) and (not i % 5):\n",
    "        print i, \"fizzbuzz\"\n",
    "    elif not i % 3:\n",
    "        print i, 'fizz'\n",
    "    elif not i % 5:\n",
    "        print i, 'buzz'\n",
    "    else:\n",
    "        print i\n"
   ]
  },
  {
   "cell_type": "markdown",
   "metadata": {},
   "source": [
    "---\n",
    "\n",
    "### 6. Iterate through the following list of animals, and print each one in all caps."
   ]
  },
  {
   "cell_type": "code",
   "execution_count": 9,
   "metadata": {
    "collapsed": true
   },
   "outputs": [],
   "source": [
    "animals = ['duck', 'rat', 'boar', 'slug', 'mammoth', 'gazelle']"
   ]
  },
  {
   "cell_type": "code",
<<<<<<< HEAD
   "execution_count": 6,
   "metadata": {
    "collapsed": true
   },
   "outputs": [],
=======
   "execution_count": 21,
   "metadata": {},
   "outputs": [
    {
     "name": "stdout",
     "output_type": "stream",
     "text": [
      "DUCK\n",
      "RAT\n",
      "BOAR\n",
      "SLUG\n",
      "MAMMOTH\n",
      "GAZELLE\n"
     ]
    }
   ],
>>>>>>> origin/master
   "source": [
    "animals = ['duck', 'rat', 'boar', 'slug', 'mammoth', 'gazelle']\n",
    "\n",
    "for animal in animals:\n",
    "    print animal.upper()"
   ]
  },
  {
   "cell_type": "markdown",
   "metadata": {},
   "source": [
    "---\n",
    "\n",
    "### 7. Iterate through the animals list. Capitalize the first letter and append the modified animals to a new list."
   ]
  },
  {
   "cell_type": "code",
<<<<<<< HEAD
   "execution_count": 7,
   "metadata": {
    "collapsed": true
   },
   "outputs": [],
=======
   "execution_count": 22,
   "metadata": {},
   "outputs": [
    {
     "name": "stdout",
     "output_type": "stream",
     "text": [
      "Duck\n",
      "Rat\n",
      "Boar\n",
      "Slug\n",
      "Mammoth\n",
      "Gazelle\n"
     ]
    },
    {
     "data": {
      "text/plain": [
       "['Duck', 'Rat', 'Boar', 'Slug', 'Mammoth', 'Gazelle']"
      ]
     },
     "execution_count": 22,
     "metadata": {},
     "output_type": "execute_result"
    }
   ],
>>>>>>> origin/master
   "source": [
    "animals = ['duck', 'rat', 'boar', 'slug', 'mammoth', 'gazelle']\n",
    "\n",
    "for animal in animals:\n",
    "    print animal.capitalize()\n",
    "    \n",
    "# Other way, start off with an empty list\n",
    "animals_upper = []\n",
    "\n",
    "for animal in animals:\n",
    "    animals_upper.append(animal.capitalize())\n",
    "animals_upper\n",
    "    "
   ]
  },
  {
   "cell_type": "markdown",
   "metadata": {},
   "source": [
    "---\n",
    "\n",
    "### 8. Iterate through the animals. Print out the animal name and the number of vowels in the name.\n",
    "Hint: You may need to create a variable of vowels for comparison.  "
   ]
  },
  {
   "cell_type": "code",
<<<<<<< HEAD
   "execution_count": 8,
   "metadata": {
    "collapsed": true
   },
   "outputs": [],
=======
   "execution_count": 25,
   "metadata": {},
   "outputs": [
    {
     "name": "stdout",
     "output_type": "stream",
     "text": [
      "duck\n",
      "1\n",
      "rat\n",
      "1\n",
      "boar\n",
      "2\n",
      "slug\n",
      "1\n",
      "mammoth\n",
      "2\n",
      "gazelle\n",
      "3\n",
      "duck 1\n",
      "rat 1\n",
      "boar 2\n",
      "slug 1\n",
      "mammoth 2\n",
      "gazelle 3\n"
     ]
    }
   ],
>>>>>>> origin/master
   "source": [
    "animals = ['duck', 'rat', 'boar', 'slug', 'mammoth', 'gazelle'] \n",
    "\n",
    "for animal in animals:\n",
    "    print animal\n",
    "    a = animal.count('a')\n",
    "    e = animal.count('e')\n",
    "    i = animal.count('i')\n",
    "    o = animal.count('o')\n",
    "    u = animal.count('u')\n",
    "    print a + e + i + o + u\n",
    "    \n",
    "# Other way\n",
    "\n",
    "vowels = \"aeiou\"\n",
    "\n",
    "for animal in animals:\n",
    "    vowel_counter = 0\n",
    "    \n",
    "    for char in animal:\n",
    "        if char in vowels:\n",
    "            vowel_counter = vowel_counter + 1\n",
    "            \n",
    "    print animal, vowel_counter\n",
    "    \n"
   ]
  },
  {
   "cell_type": "markdown",
   "metadata": {},
   "source": [
    "---\n",
    "<a id='functions'></a>\n",
    "# Functions\n",
    "---\n",
    "\n",
    "### 9. Write a function that takes word as an argument and returns the number of vowels in the word.\n",
    "\n",
    "Try it out on three words."
   ]
  },
  {
   "cell_type": "code",
   "execution_count": 32,
   "metadata": {},
   "outputs": [
    {
     "name": "stdout",
     "output_type": "stream",
     "text": [
      "2\n"
     ]
    }
   ],
   "source": [
    "def vowel_count(word):\n",
    "     a = word.count('a')\n",
    "     e = word.count('e')\n",
    "     i = word.count('i')\n",
    "     o = word.count('o')\n",
    "     u = word.count('u')\n",
    "     print a + e + i + o + u\n",
    "    \n",
    "vowel_count('erik')\n",
    "\n",
    "#other way\n",
    "\n",
    "def count_vowels(word_string):\n",
    "    vowels = 'aeiou'\n",
    "    vowel_count = 0\n",
    "    \n",
    "    for char in word_string:\n",
    "        if char in vowels:\n",
    "            vowel_count += 1\n",
    "            \n",
    "    return vowel_count\n",
    "    \n",
    "vowel_count = count_vowels('dvasd')"
   ]
  },
  {
   "cell_type": "code",
   "execution_count": null,
   "metadata": {
    "collapsed": true
   },
   "outputs": [],
   "source": [
    "# Is there an easier way to count vowels?"
   ]
  },
  {
   "cell_type": "markdown",
   "metadata": {},
   "source": [
    "---\n",
    "\n",
    "### 10. Write a function to calculate the area of a triangle uaing a height and width.\n",
    "\n",
    "Test it out."
   ]
  },
  {
   "cell_type": "code",
   "execution_count": 6,
   "metadata": {},
   "outputs": [
    {
     "name": "stdout",
     "output_type": "stream",
     "text": [
      "50.0\n"
     ]
    }
   ],
   "source": [
    "def triangle_area(height,width):\n",
    "    n = height * width * .5\n",
    "    print n\n",
    "    \n",
    "triangle_area(20,5)"
   ]
  },
  {
   "cell_type": "code",
   "execution_count": null,
   "metadata": {
    "collapsed": true
   },
   "outputs": [],
   "source": [
    "# Question: Do I have to define as n to get it to print?"
   ]
  },
  {
   "cell_type": "markdown",
   "metadata": {},
   "source": [
    "---\n",
    "<a id='while_loops'></a>\n",
    "# While Loops\n",
    "---\n",
    "\n",
    "### 11. While loops and strings.\n",
    "\n",
    "Iterate over the following sentence repeatedly, counting the number of vowels in the sentence until you have tallied one million. Print out the number of iterations it took to reach that amount."
   ]
  },
  {
   "cell_type": "code",
   "execution_count": 2,
   "metadata": {
    "collapsed": true
   },
   "outputs": [],
   "source": [
    "sentence = \"A MAN KNOCKED ON MY DOOR AND ASKED FOR A SMALL DONATION TOWARDS THE LOCAL SWIMMING POOL SO I GAVE HIM A GLASS OF WATER\""
   ]
  },
  {
   "cell_type": "code",
<<<<<<< HEAD
   "execution_count": 10,
   "metadata": {
    "collapsed": true
   },
=======
   "execution_count": 26,
   "metadata": {},
   "outputs": [
    {
     "name": "stdout",
     "output_type": "stream",
     "text": [
      "27778\n"
     ]
    }
   ],
   "source": [
    "sentence = \"A MAN KNOCKED ON MY DOOR AND ASKED FOR A SMALL DONATION TOWARDS THE LOCAL SWIMMING POOL SO I GAVE HIM A GLASS OF WATER\"\n",
    "\n",
    "count = 0\n",
    "vowels = 0\n",
    "\n",
    "while vowels <= 1000000:\n",
    "    a = sentence.count('A')\n",
    "    e = sentence.count('E')\n",
    "    i = sentence.count('I')\n",
    "    o = sentence.count('O')\n",
    "    u = sentence.count('U')\n",
    "    vowels = (a + e + i + o + u) + vowels\n",
    "    count = count + 1\n",
    "else:\n",
    "    print count"
   ]
  },
  {
   "cell_type": "code",
   "execution_count": null,
   "metadata": {},
>>>>>>> origin/master
   "outputs": [],
   "source": [
    "sentence = \"A MAN KNOCKED ON MY DOOR AND ASKED FOR A SMALL DONATION TOWARDS THE LOCAL SWIMMING POOL SO I GAVE HIM A GLASS OF WATER\"\n",
    "\n",
    "vowel_count = 0\n",
    "iteration_count = 0\n",
    "vowel = 'AEIOU'\n",
    "\n",
    "while vowel_count <= 1000000:\n",
    "    for char in sentence:\n",
    "        if char in vowel:\n",
    "            vowel_count += 1\n",
    "            iteration_count += 1\n",
    "return iteration_count"
   ]
  },
  {
   "cell_type": "markdown",
   "metadata": {},
   "source": [
    "---\n",
    "\n",
    "### 12. Try to convert elements in a list to floats.\n",
    "\n",
    "Create a new list with the converted numbers. If something cannot be converted, skip it and append nothing to the new list."
   ]
  },
  {
   "cell_type": "code",
   "execution_count": 18,
   "metadata": {
    "collapsed": true
   },
   "outputs": [],
   "source": [
    "corrupted = ['!1', '23.1', '23.4.5', '??12', '.12', '12-12', '-11.1', '0-1', '*12.1', '1000']"
   ]
  },
  {
   "cell_type": "code",
   "execution_count": 13,
   "metadata": {},
   "outputs": [
    {
     "name": "stdout",
     "output_type": "stream",
     "text": [
      "[1.0, 23.1, 234.5, 12.0, 0.12, 1212.0, 11.1, 1.0, 121.0, 1000.0]\n"
     ]
    }
   ],
   "source": [
    "corrupted = ['1', '23.1', '234.5', '12', '.12', '1212', '11.1', '01', '121', '1000']\n",
    "new_list = []\n",
    "counter = 0\n",
    "\n",
    "while counter < 10:\n",
    "    for number in corrupted:\n",
    "        new_list.append(float(number))\n",
    "        counter = counter + 1\n",
    "else:\n",
    "    print new_list"
   ]
  },
  {
   "cell_type": "code",
   "execution_count": null,
   "metadata": {
    "collapsed": true
   },
   "outputs": [],
   "source": []
  },
  {
   "cell_type": "markdown",
   "metadata": {},
   "source": [
    "---\n",
    "<a id='coffee_preference'></a>\n",
    "\n",
    "# Practice control flow on Coffee Preference dataset\n",
    "\n",
    "### 13. Load coffee preference data from file and print\n",
    "\n",
    "The code to load in the data is provided below. \n",
    "\n",
    "The `with open(..., 'r') as f:` opens up a file in \"read\" mode (rather than \"write\"), and assigns this opened file to `f`. \n",
    "\n",
    "We can then use the `.readlines()` built-in function to split the csv file on newlines and assign it to the variable `lines`."
   ]
  },
  {
   "cell_type": "code",
   "execution_count": 3,
   "metadata": {
    "collapsed": true
   },
   "outputs": [],
   "source": [
    "with open('datasets/coffee-preferences.csv','r') as f:\n",
    "    lines = f.readlines()"
   ]
  },
  {
   "cell_type": "markdown",
   "metadata": {},
   "source": [
    "#### Iterate through lines and print them out"
   ]
  },
  {
   "cell_type": "code",
   "execution_count": 12,
   "metadata": {
    "collapsed": true
   },
   "outputs": [],
   "source": [
    "# A:"
   ]
  },
  {
   "cell_type": "markdown",
   "metadata": {},
   "source": [
    "#### Print out just the lines object by typing `lines` in a cell and hitting enter."
   ]
  },
  {
   "cell_type": "code",
   "execution_count": 13,
   "metadata": {
    "collapsed": true
   },
   "outputs": [],
   "source": [
    "# A:"
   ]
  },
  {
   "cell_type": "markdown",
   "metadata": {},
   "source": [
    "---\n",
    "\n",
    "### 14. Remove the remaining newline `'\\n'` characters with a for-loop.\n",
    "\n",
    "Iterate through the lines of the data and remove the unwanted newline characters.\n",
    "\n",
    "**.replace('\\n', '')** is a built-in string function that will take the substring you want to replace as its first argument and the string you want to replace it with as its second."
   ]
  },
  {
   "cell_type": "code",
   "execution_count": 14,
   "metadata": {
    "collapsed": true
   },
   "outputs": [],
   "source": [
    "# A:"
   ]
  },
  {
   "cell_type": "markdown",
   "metadata": {},
   "source": [
    "---\n",
    "\n",
    "### 15. Split the lines into \"header\" and \"data\" variables.\n",
    "\n",
    "The header is the first string in the list of strings. It contains the column names of our data."
   ]
  },
  {
   "cell_type": "code",
   "execution_count": 15,
   "metadata": {
    "collapsed": true
   },
   "outputs": [],
   "source": [
    "# A:"
   ]
  },
  {
   "cell_type": "markdown",
   "metadata": {},
   "source": [
    "---\n",
    "\n",
    "### 16. Split the header and the data strings on commas.\n",
    "\n",
    "To split a string on the comma character, use the built in **`.split(',')`** function. \n",
    "\n",
    "Split the header on commas, then print it. You can see that the original string is now a list containing items that were originally separated by commas."
   ]
  },
  {
   "cell_type": "code",
   "execution_count": 16,
   "metadata": {
    "collapsed": true
   },
   "outputs": [],
   "source": [
    "# A:"
   ]
  },
  {
   "cell_type": "markdown",
   "metadata": {},
   "source": [
    "---\n",
    "\n",
    "### 17. Remove the \"Timestamp\" column.\n",
    "\n",
    "We aren't interested in the \"Timestamp\" column in our data, so remove it from the header and the data list.\n",
    "\n",
    "Removing the Timestamp from the header can be done with list functions or with slicing. To remove the header column from the data, use a for-loop.\n",
    "\n",
    "Print out the new data object with the timestamps removed."
   ]
  },
  {
   "cell_type": "code",
   "execution_count": 17,
   "metadata": {
    "collapsed": true
   },
   "outputs": [],
   "source": [
    "# A:"
   ]
  },
  {
   "cell_type": "markdown",
   "metadata": {},
   "source": [
    "---\n",
    "\n",
    "### 18. Convert numeric columns to floats and empty fields to `None`.\n",
    "\n",
    "Iterate through the data, and construct a new data list of lists that contains the numeric ratings converted from strings into floats and the empty fields (which are empty strings '') replaced with the None object.\n",
    "\n",
    "Use a nested for loop (a for loop within another for loop) to get the job done. You will likely need to use if-else conditional statements as well.\n",
    "\n",
    "Print out the new data object to make sure you've succeeded."
   ]
  },
  {
   "cell_type": "code",
   "execution_count": 28,
   "metadata": {
    "collapsed": true
   },
   "outputs": [],
   "source": [
    "# A:"
   ]
  },
  {
   "cell_type": "markdown",
   "metadata": {},
   "source": [
    "---\n",
    "\n",
    "### 19. Count the `None` values per person, and put counts in a dictionary.\n",
    "\n",
    "Use a for loop to count the number of `None` values per person. Create a dictionary with the names of the people as keys, and the counts of `None` as values.\n",
    "\n",
    "Who rated the most coffee brands? Who rated the least?"
   ]
  },
  {
   "cell_type": "code",
   "execution_count": 18,
   "metadata": {
    "collapsed": true
   },
   "outputs": [],
   "source": [
    "# A:"
   ]
  },
  {
   "cell_type": "markdown",
   "metadata": {},
   "source": [
    "---\n",
    "\n",
    "### 20. Calculate average rating per coffee brand.\n",
    "\n",
    "**Excluding `None` values**, calculate the average rating per brand of coffee.\n",
    "\n",
    "The final output should be a dictionary with keys as the coffee brand names, and their average rating as the values.\n",
    "\n",
    "Remember that average can be calculated as the sum of the ratings over the number of ratings:\n",
    "\n",
    "```python\n",
    "average_rating = float(sum(ratings_list))/len(ratings_list)\n",
    "```\n",
    "\n",
    "Print your dictionary to see the average brand ratings."
   ]
  },
  {
   "cell_type": "code",
   "execution_count": 19,
   "metadata": {
    "collapsed": true
   },
   "outputs": [],
   "source": [
    "# A:"
   ]
  },
  {
   "cell_type": "markdown",
   "metadata": {},
   "source": [
    "---\n",
    "\n",
    "### 21. Create a list containing only the people's names."
   ]
  },
  {
   "cell_type": "code",
   "execution_count": 20,
   "metadata": {
    "collapsed": true
   },
   "outputs": [],
   "source": [
    "# A:"
   ]
  },
  {
   "cell_type": "markdown",
   "metadata": {},
   "source": [
    "---\n",
    "\n",
    "### 22. Picking a name at random. What are the odds of choosing the same name three times in a row?\n",
    "\n",
    "Now we'll use a while-loop to \"brute force\" the odds of choosing the same name 3 times in a row randomly from the list of names.\n",
    "\n",
    "Below I've imported the **`random`** package, which has the essential function for this code **`random.choice()`**.\n",
    "The function takes a list as an argument, and returns one of the elements of that list at random."
   ]
  },
  {
   "cell_type": "code",
   "execution_count": 33,
   "metadata": {
    "collapsed": true
   },
   "outputs": [],
   "source": [
    "import random\n",
    "# Choose a random person from the list of people:\n",
    "# random.choice(people)"
   ]
  },
  {
   "cell_type": "markdown",
   "metadata": {},
   "source": [
    "Write a function to choose a person from the list randomly three times and check if they are all the same\n",
    "\n",
    "Define a function that has the following properties:\n",
    "\n",
    "1. Takes a list (your list of names) as an argument.\n",
    "2. Selects a name using `random.choice(people)` three separate times.\n",
    "3. Returns `True` if the name was the same all three times. Otherwise returns `False`."
   ]
  },
  {
   "cell_type": "code",
   "execution_count": 21,
   "metadata": {
    "collapsed": true
   },
   "outputs": [],
   "source": [
    "# A:"
   ]
  },
  {
   "cell_type": "markdown",
   "metadata": {},
   "source": [
    "---\n",
    "\n",
    "### 23. Construct a while loop to run the choosing function until it returns True.\n",
    "\n",
    "Run the function until you draw the same person three times using a while-loop. Keep track of how many tries it took and print out the number of tries after it runs."
   ]
  },
  {
   "cell_type": "code",
   "execution_count": 22,
   "metadata": {
    "collapsed": true
   },
   "outputs": [],
   "source": [
    "# A:"
   ]
  },
  {
   "cell_type": "code",
   "execution_count": null,
   "metadata": {
    "collapsed": true
   },
   "outputs": [],
   "source": [
    "##### Class 2"
   ]
  },
  {
   "cell_type": "code",
   "execution_count": 9,
   "metadata": {
    "collapsed": true
   },
   "outputs": [],
   "source": [
    "import os\n",
    "import numpy as np\n",
    "import pandas as pd\n",
    "\n",
    "pd.set_option('display.max_rows', 10)\n",
    "pd.set_option('display.notebook_repr_html', True)\n",
    "pd.set_option('display.max_columns', 10)"
   ]
  },
  {
   "cell_type": "code",
   "execution_count": 10,
   "metadata": {},
   "outputs": [
    {
     "ename": "NameError",
     "evalue": "name 'classes' is not defined",
     "output_type": "error",
     "traceback": [
      "\u001b[1;31m\u001b[0m",
      "\u001b[1;31mNameError\u001b[0mTraceback (most recent call last)",
      "\u001b[1;32m<ipython-input-10-a381f90e294d>\u001b[0m in \u001b[0;36m<module>\u001b[1;34m()\u001b[0m\n\u001b[1;32m----> 1\u001b[1;33m \u001b[0mdf\u001b[0m \u001b[1;33m=\u001b[0m \u001b[0mpd\u001b[0m\u001b[1;33m.\u001b[0m\u001b[0mread_csv\u001b[0m\u001b[1;33m(\u001b[0m\u001b[0mclasses\u001b[0m\u001b[1;33m/\u001b[0m\u001b[1;36m02\u001b[0m\u001b[1;33m/\u001b[0m\u001b[0mdatasets\u001b[0m\u001b[1;33m/\u001b[0m\u001b[0mdataset\u001b[0m\u001b[1;33m-\u001b[0m\u001b[1;36m02\u001b[0m\u001b[1;33m-\u001b[0m\u001b[0mbistro\u001b[0m\u001b[1;33m.\u001b[0m\u001b[0mcsv\u001b[0m\u001b[1;33m)\u001b[0m\u001b[1;33m\u001b[0m\u001b[0m\n\u001b[0m",
      "\u001b[1;31mNameError\u001b[0m: name 'classes' is not defined"
     ]
    }
   ],
   "source": [
    "df = pd.read_csv(classes/02/datasets/dataset-02-bistro.csv)"
   ]
  },
  {
   "cell_type": "code",
   "execution_count": 11,
   "metadata": {
    "collapsed": true
   },
   "outputs": [],
   "source": [
    "import os \n",
    "import numpy as np\n",
    "import pandas as pd\n",
    "\n",
    "pd.set_option('display.max_rows', 10)\n",
    "pd.set_option('display.notebook_repr_html', True)\n",
    "pd.set_option('display.max_columns', 10)"
   ]
  },
  {
   "cell_type": "code",
   "execution_count": 12,
   "metadata": {},
   "outputs": [],
   "source": [
    "df = pd.read_csv(\"datasets/coffee-preferences.csv\")"
   ]
  },
  {
   "cell_type": "code",
   "execution_count": 13,
   "metadata": {},
   "outputs": [
    {
     "data": {
      "text/plain": [
       "Index([u'Timestamp', u'Name', u'Starbucks', u'PhilzCoffee',\n",
       "       u'BlueBottleCoffee', u'PeetsTea', u'CaffeTrieste', u'GrandCoffee',\n",
       "       u'RitualCoffee', u'FourBarrel', u'WorkshopCafe'],\n",
       "      dtype='object')"
      ]
     },
     "execution_count": 13,
     "metadata": {},
     "output_type": "execute_result"
    }
   ],
   "source": [
    "df.columns"
   ]
  },
  {
   "cell_type": "code",
   "execution_count": 7,
   "metadata": {},
   "outputs": [
    {
     "data": {
      "text/html": [
       "<div>\n",
       "<style>\n",
       "    .dataframe thead tr:only-child th {\n",
       "        text-align: right;\n",
       "    }\n",
       "\n",
       "    .dataframe thead th {\n",
       "        text-align: left;\n",
       "    }\n",
       "\n",
       "    .dataframe tbody tr th {\n",
       "        vertical-align: top;\n",
       "    }\n",
       "</style>\n",
       "<table border=\"1\" class=\"dataframe\">\n",
       "  <thead>\n",
       "    <tr style=\"text-align: right;\">\n",
       "      <th></th>\n",
       "      <th>Timestamp</th>\n",
       "      <th>Name</th>\n",
       "      <th>Starbucks</th>\n",
       "      <th>PhilzCoffee</th>\n",
       "      <th>BlueBottleCoffee</th>\n",
       "      <th>...</th>\n",
       "      <th>CaffeTrieste</th>\n",
       "      <th>GrandCoffee</th>\n",
       "      <th>RitualCoffee</th>\n",
       "      <th>FourBarrel</th>\n",
       "      <th>WorkshopCafe</th>\n",
       "    </tr>\n",
       "  </thead>\n",
       "  <tbody>\n",
       "    <tr>\n",
       "      <th>0</th>\n",
       "      <td>3/17/2015 18:37:58</td>\n",
       "      <td>Alison</td>\n",
       "      <td>3</td>\n",
       "      <td>5</td>\n",
       "      <td>4.0</td>\n",
       "      <td>...</td>\n",
       "      <td>NaN</td>\n",
       "      <td>NaN</td>\n",
       "      <td>5.0</td>\n",
       "      <td>5.0</td>\n",
       "      <td>NaN</td>\n",
       "    </tr>\n",
       "    <tr>\n",
       "      <th>1</th>\n",
       "      <td>3/17/2015 18:38:09</td>\n",
       "      <td>April</td>\n",
       "      <td>4</td>\n",
       "      <td>5</td>\n",
       "      <td>5.0</td>\n",
       "      <td>...</td>\n",
       "      <td>NaN</td>\n",
       "      <td>NaN</td>\n",
       "      <td>3.0</td>\n",
       "      <td>NaN</td>\n",
       "      <td>5.0</td>\n",
       "    </tr>\n",
       "    <tr>\n",
       "      <th>2</th>\n",
       "      <td>3/17/2015 18:38:25</td>\n",
       "      <td>Vijay</td>\n",
       "      <td>3</td>\n",
       "      <td>5</td>\n",
       "      <td>5.0</td>\n",
       "      <td>...</td>\n",
       "      <td>3.0</td>\n",
       "      <td>2.0</td>\n",
       "      <td>1.0</td>\n",
       "      <td>1.0</td>\n",
       "      <td>1.0</td>\n",
       "    </tr>\n",
       "    <tr>\n",
       "      <th>3</th>\n",
       "      <td>3/17/2015 18:38:28</td>\n",
       "      <td>Vanessa</td>\n",
       "      <td>1</td>\n",
       "      <td>5</td>\n",
       "      <td>5.0</td>\n",
       "      <td>...</td>\n",
       "      <td>NaN</td>\n",
       "      <td>NaN</td>\n",
       "      <td>3.0</td>\n",
       "      <td>2.0</td>\n",
       "      <td>3.0</td>\n",
       "    </tr>\n",
       "    <tr>\n",
       "      <th>4</th>\n",
       "      <td>3/17/2015 18:38:46</td>\n",
       "      <td>Isabel</td>\n",
       "      <td>1</td>\n",
       "      <td>4</td>\n",
       "      <td>4.0</td>\n",
       "      <td>...</td>\n",
       "      <td>4.0</td>\n",
       "      <td>NaN</td>\n",
       "      <td>4.0</td>\n",
       "      <td>4.0</td>\n",
       "      <td>NaN</td>\n",
       "    </tr>\n",
       "    <tr>\n",
       "      <th>...</th>\n",
       "      <td>...</td>\n",
       "      <td>...</td>\n",
       "      <td>...</td>\n",
       "      <td>...</td>\n",
       "      <td>...</td>\n",
       "      <td>...</td>\n",
       "      <td>...</td>\n",
       "      <td>...</td>\n",
       "      <td>...</td>\n",
       "      <td>...</td>\n",
       "      <td>...</td>\n",
       "    </tr>\n",
       "    <tr>\n",
       "      <th>15</th>\n",
       "      <td>3/17/2015 18:40:49</td>\n",
       "      <td>Markus</td>\n",
       "      <td>3</td>\n",
       "      <td>5</td>\n",
       "      <td>NaN</td>\n",
       "      <td>...</td>\n",
       "      <td>NaN</td>\n",
       "      <td>NaN</td>\n",
       "      <td>4.0</td>\n",
       "      <td>NaN</td>\n",
       "      <td>NaN</td>\n",
       "    </tr>\n",
       "    <tr>\n",
       "      <th>16</th>\n",
       "      <td>3/17/2015 18:41:18</td>\n",
       "      <td>Otto</td>\n",
       "      <td>4</td>\n",
       "      <td>2</td>\n",
       "      <td>2.0</td>\n",
       "      <td>...</td>\n",
       "      <td>NaN</td>\n",
       "      <td>NaN</td>\n",
       "      <td>3.0</td>\n",
       "      <td>3.0</td>\n",
       "      <td>3.0</td>\n",
       "    </tr>\n",
       "    <tr>\n",
       "      <th>17</th>\n",
       "      <td>3/17/2015 18:41:23</td>\n",
       "      <td>Alessandro</td>\n",
       "      <td>1</td>\n",
       "      <td>5</td>\n",
       "      <td>3.0</td>\n",
       "      <td>...</td>\n",
       "      <td>NaN</td>\n",
       "      <td>NaN</td>\n",
       "      <td>4.0</td>\n",
       "      <td>3.0</td>\n",
       "      <td>NaN</td>\n",
       "    </tr>\n",
       "    <tr>\n",
       "      <th>18</th>\n",
       "      <td>3/17/2015 18:41:35</td>\n",
       "      <td>Rocky</td>\n",
       "      <td>3</td>\n",
       "      <td>5</td>\n",
       "      <td>4.0</td>\n",
       "      <td>...</td>\n",
       "      <td>3.0</td>\n",
       "      <td>3.0</td>\n",
       "      <td>4.0</td>\n",
       "      <td>4.0</td>\n",
       "      <td>3.0</td>\n",
       "    </tr>\n",
       "    <tr>\n",
       "      <th>19</th>\n",
       "      <td>3/17/2015 18:42:01</td>\n",
       "      <td>cheong-tseng eng</td>\n",
       "      <td>3</td>\n",
       "      <td>1</td>\n",
       "      <td>NaN</td>\n",
       "      <td>...</td>\n",
       "      <td>NaN</td>\n",
       "      <td>NaN</td>\n",
       "      <td>4.0</td>\n",
       "      <td>NaN</td>\n",
       "      <td>NaN</td>\n",
       "    </tr>\n",
       "  </tbody>\n",
       "</table>\n",
       "<p>20 rows × 11 columns</p>\n",
       "</div>"
      ],
      "text/plain": [
       "             Timestamp              Name  Starbucks  PhilzCoffee  \\\n",
       "0   3/17/2015 18:37:58            Alison          3            5   \n",
       "1   3/17/2015 18:38:09             April          4            5   \n",
       "2   3/17/2015 18:38:25             Vijay          3            5   \n",
       "3   3/17/2015 18:38:28           Vanessa          1            5   \n",
       "4   3/17/2015 18:38:46            Isabel          1            4   \n",
       "..                 ...               ...        ...          ...   \n",
       "15  3/17/2015 18:40:49            Markus          3            5   \n",
       "16  3/17/2015 18:41:18              Otto          4            2   \n",
       "17  3/17/2015 18:41:23        Alessandro          1            5   \n",
       "18  3/17/2015 18:41:35             Rocky          3            5   \n",
       "19  3/17/2015 18:42:01  cheong-tseng eng          3            1   \n",
       "\n",
       "    BlueBottleCoffee      ...       CaffeTrieste  GrandCoffee  RitualCoffee  \\\n",
       "0                4.0      ...                NaN          NaN           5.0   \n",
       "1                5.0      ...                NaN          NaN           3.0   \n",
       "2                5.0      ...                3.0          2.0           1.0   \n",
       "3                5.0      ...                NaN          NaN           3.0   \n",
       "4                4.0      ...                4.0          NaN           4.0   \n",
       "..               ...      ...                ...          ...           ...   \n",
       "15               NaN      ...                NaN          NaN           4.0   \n",
       "16               2.0      ...                NaN          NaN           3.0   \n",
       "17               3.0      ...                NaN          NaN           4.0   \n",
       "18               4.0      ...                3.0          3.0           4.0   \n",
       "19               NaN      ...                NaN          NaN           4.0   \n",
       "\n",
       "    FourBarrel  WorkshopCafe  \n",
       "0          5.0           NaN  \n",
       "1          NaN           5.0  \n",
       "2          1.0           1.0  \n",
       "3          2.0           3.0  \n",
       "4          4.0           NaN  \n",
       "..         ...           ...  \n",
       "15         NaN           NaN  \n",
       "16         3.0           3.0  \n",
       "17         3.0           NaN  \n",
       "18         4.0           3.0  \n",
       "19         NaN           NaN  \n",
       "\n",
       "[20 rows x 11 columns]"
      ]
     },
     "execution_count": 7,
     "metadata": {},
     "output_type": "execute_result"
    }
   ],
   "source": [
    "df"
   ]
  },
  {
   "cell_type": "code",
   "execution_count": 12,
   "metadata": {},
   "outputs": [
    {
     "data": {
      "text/plain": [
       "pandas.core.frame.DataFrame"
      ]
     },
     "execution_count": 12,
     "metadata": {},
     "output_type": "execute_result"
    }
   ],
   "source": [
    "type(df)"
   ]
  },
  {
   "cell_type": "code",
   "execution_count": 13,
   "metadata": {},
   "outputs": [
    {
     "data": {
      "text/html": [
       "<div>\n",
       "<style>\n",
       "    .dataframe thead tr:only-child th {\n",
       "        text-align: right;\n",
       "    }\n",
       "\n",
       "    .dataframe thead th {\n",
       "        text-align: left;\n",
       "    }\n",
       "\n",
       "    .dataframe tbody tr th {\n",
       "        vertical-align: top;\n",
       "    }\n",
       "</style>\n",
       "<table border=\"1\" class=\"dataframe\">\n",
       "  <thead>\n",
       "    <tr style=\"text-align: right;\">\n",
       "      <th></th>\n",
       "      <th>Timestamp</th>\n",
       "      <th>Name</th>\n",
       "      <th>Starbucks</th>\n",
       "      <th>PhilzCoffee</th>\n",
       "      <th>BlueBottleCoffee</th>\n",
       "      <th>...</th>\n",
       "      <th>CaffeTrieste</th>\n",
       "      <th>GrandCoffee</th>\n",
       "      <th>RitualCoffee</th>\n",
       "      <th>FourBarrel</th>\n",
       "      <th>WorkshopCafe</th>\n",
       "    </tr>\n",
       "  </thead>\n",
       "  <tbody>\n",
       "    <tr>\n",
       "      <th>0</th>\n",
       "      <td>3/17/2015 18:37:58</td>\n",
       "      <td>Alison</td>\n",
       "      <td>3</td>\n",
       "      <td>5</td>\n",
       "      <td>4.0</td>\n",
       "      <td>...</td>\n",
       "      <td>NaN</td>\n",
       "      <td>NaN</td>\n",
       "      <td>5.0</td>\n",
       "      <td>5.0</td>\n",
       "      <td>NaN</td>\n",
       "    </tr>\n",
       "    <tr>\n",
       "      <th>1</th>\n",
       "      <td>3/17/2015 18:38:09</td>\n",
       "      <td>April</td>\n",
       "      <td>4</td>\n",
       "      <td>5</td>\n",
       "      <td>5.0</td>\n",
       "      <td>...</td>\n",
       "      <td>NaN</td>\n",
       "      <td>NaN</td>\n",
       "      <td>3.0</td>\n",
       "      <td>NaN</td>\n",
       "      <td>5.0</td>\n",
       "    </tr>\n",
       "    <tr>\n",
       "      <th>2</th>\n",
       "      <td>3/17/2015 18:38:25</td>\n",
       "      <td>Vijay</td>\n",
       "      <td>3</td>\n",
       "      <td>5</td>\n",
       "      <td>5.0</td>\n",
       "      <td>...</td>\n",
       "      <td>3.0</td>\n",
       "      <td>2.0</td>\n",
       "      <td>1.0</td>\n",
       "      <td>1.0</td>\n",
       "      <td>1.0</td>\n",
       "    </tr>\n",
       "    <tr>\n",
       "      <th>3</th>\n",
       "      <td>3/17/2015 18:38:28</td>\n",
       "      <td>Vanessa</td>\n",
       "      <td>1</td>\n",
       "      <td>5</td>\n",
       "      <td>5.0</td>\n",
       "      <td>...</td>\n",
       "      <td>NaN</td>\n",
       "      <td>NaN</td>\n",
       "      <td>3.0</td>\n",
       "      <td>2.0</td>\n",
       "      <td>3.0</td>\n",
       "    </tr>\n",
       "    <tr>\n",
       "      <th>4</th>\n",
       "      <td>3/17/2015 18:38:46</td>\n",
       "      <td>Isabel</td>\n",
       "      <td>1</td>\n",
       "      <td>4</td>\n",
       "      <td>4.0</td>\n",
       "      <td>...</td>\n",
       "      <td>4.0</td>\n",
       "      <td>NaN</td>\n",
       "      <td>4.0</td>\n",
       "      <td>4.0</td>\n",
       "      <td>NaN</td>\n",
       "    </tr>\n",
       "  </tbody>\n",
       "</table>\n",
       "<p>5 rows × 11 columns</p>\n",
       "</div>"
      ],
      "text/plain": [
       "            Timestamp     Name  Starbucks  PhilzCoffee  BlueBottleCoffee  \\\n",
       "0  3/17/2015 18:37:58   Alison          3            5               4.0   \n",
       "1  3/17/2015 18:38:09    April          4            5               5.0   \n",
       "2  3/17/2015 18:38:25    Vijay          3            5               5.0   \n",
       "3  3/17/2015 18:38:28  Vanessa          1            5               5.0   \n",
       "4  3/17/2015 18:38:46   Isabel          1            4               4.0   \n",
       "\n",
       "       ...       CaffeTrieste  GrandCoffee  RitualCoffee  FourBarrel  \\\n",
       "0      ...                NaN          NaN           5.0         5.0   \n",
       "1      ...                NaN          NaN           3.0         NaN   \n",
       "2      ...                3.0          2.0           1.0         1.0   \n",
       "3      ...                NaN          NaN           3.0         2.0   \n",
       "4      ...                4.0          NaN           4.0         4.0   \n",
       "\n",
       "   WorkshopCafe  \n",
       "0           NaN  \n",
       "1           5.0  \n",
       "2           1.0  \n",
       "3           3.0  \n",
       "4           NaN  \n",
       "\n",
       "[5 rows x 11 columns]"
      ]
     },
     "execution_count": 13,
     "metadata": {},
     "output_type": "execute_result"
    }
   ],
   "source": [
    "df.head()\n"
   ]
  },
  {
   "cell_type": "code",
   "execution_count": 14,
   "metadata": {},
   "outputs": [
    {
     "data": {
      "text/html": [
       "<div>\n",
       "<style>\n",
       "    .dataframe thead tr:only-child th {\n",
       "        text-align: right;\n",
       "    }\n",
       "\n",
       "    .dataframe thead th {\n",
       "        text-align: left;\n",
       "    }\n",
       "\n",
       "    .dataframe tbody tr th {\n",
       "        vertical-align: top;\n",
       "    }\n",
       "</style>\n",
       "<table border=\"1\" class=\"dataframe\">\n",
       "  <thead>\n",
       "    <tr style=\"text-align: right;\">\n",
       "      <th></th>\n",
       "      <th>Timestamp</th>\n",
       "      <th>Name</th>\n",
       "      <th>Starbucks</th>\n",
       "      <th>PhilzCoffee</th>\n",
       "      <th>BlueBottleCoffee</th>\n",
       "      <th>...</th>\n",
       "      <th>CaffeTrieste</th>\n",
       "      <th>GrandCoffee</th>\n",
       "      <th>RitualCoffee</th>\n",
       "      <th>FourBarrel</th>\n",
       "      <th>WorkshopCafe</th>\n",
       "    </tr>\n",
       "  </thead>\n",
       "  <tbody>\n",
       "    <tr>\n",
       "      <th>15</th>\n",
       "      <td>3/17/2015 18:40:49</td>\n",
       "      <td>Markus</td>\n",
       "      <td>3</td>\n",
       "      <td>5</td>\n",
       "      <td>NaN</td>\n",
       "      <td>...</td>\n",
       "      <td>NaN</td>\n",
       "      <td>NaN</td>\n",
       "      <td>4.0</td>\n",
       "      <td>NaN</td>\n",
       "      <td>NaN</td>\n",
       "    </tr>\n",
       "    <tr>\n",
       "      <th>16</th>\n",
       "      <td>3/17/2015 18:41:18</td>\n",
       "      <td>Otto</td>\n",
       "      <td>4</td>\n",
       "      <td>2</td>\n",
       "      <td>2.0</td>\n",
       "      <td>...</td>\n",
       "      <td>NaN</td>\n",
       "      <td>NaN</td>\n",
       "      <td>3.0</td>\n",
       "      <td>3.0</td>\n",
       "      <td>3.0</td>\n",
       "    </tr>\n",
       "    <tr>\n",
       "      <th>17</th>\n",
       "      <td>3/17/2015 18:41:23</td>\n",
       "      <td>Alessandro</td>\n",
       "      <td>1</td>\n",
       "      <td>5</td>\n",
       "      <td>3.0</td>\n",
       "      <td>...</td>\n",
       "      <td>NaN</td>\n",
       "      <td>NaN</td>\n",
       "      <td>4.0</td>\n",
       "      <td>3.0</td>\n",
       "      <td>NaN</td>\n",
       "    </tr>\n",
       "    <tr>\n",
       "      <th>18</th>\n",
       "      <td>3/17/2015 18:41:35</td>\n",
       "      <td>Rocky</td>\n",
       "      <td>3</td>\n",
       "      <td>5</td>\n",
       "      <td>4.0</td>\n",
       "      <td>...</td>\n",
       "      <td>3.0</td>\n",
       "      <td>3.0</td>\n",
       "      <td>4.0</td>\n",
       "      <td>4.0</td>\n",
       "      <td>3.0</td>\n",
       "    </tr>\n",
       "    <tr>\n",
       "      <th>19</th>\n",
       "      <td>3/17/2015 18:42:01</td>\n",
       "      <td>cheong-tseng eng</td>\n",
       "      <td>3</td>\n",
       "      <td>1</td>\n",
       "      <td>NaN</td>\n",
       "      <td>...</td>\n",
       "      <td>NaN</td>\n",
       "      <td>NaN</td>\n",
       "      <td>4.0</td>\n",
       "      <td>NaN</td>\n",
       "      <td>NaN</td>\n",
       "    </tr>\n",
       "  </tbody>\n",
       "</table>\n",
       "<p>5 rows × 11 columns</p>\n",
       "</div>"
      ],
      "text/plain": [
       "             Timestamp              Name  Starbucks  PhilzCoffee  \\\n",
       "15  3/17/2015 18:40:49            Markus          3            5   \n",
       "16  3/17/2015 18:41:18              Otto          4            2   \n",
       "17  3/17/2015 18:41:23        Alessandro          1            5   \n",
       "18  3/17/2015 18:41:35             Rocky          3            5   \n",
       "19  3/17/2015 18:42:01  cheong-tseng eng          3            1   \n",
       "\n",
       "    BlueBottleCoffee      ...       CaffeTrieste  GrandCoffee  RitualCoffee  \\\n",
       "15               NaN      ...                NaN          NaN           4.0   \n",
       "16               2.0      ...                NaN          NaN           3.0   \n",
       "17               3.0      ...                NaN          NaN           4.0   \n",
       "18               4.0      ...                3.0          3.0           4.0   \n",
       "19               NaN      ...                NaN          NaN           4.0   \n",
       "\n",
       "    FourBarrel  WorkshopCafe  \n",
       "15         NaN           NaN  \n",
       "16         3.0           3.0  \n",
       "17         3.0           NaN  \n",
       "18         4.0           3.0  \n",
       "19         NaN           NaN  \n",
       "\n",
       "[5 rows x 11 columns]"
      ]
     },
     "execution_count": 14,
     "metadata": {},
     "output_type": "execute_result"
    }
   ],
   "source": [
    "df.tail()"
   ]
  },
  {
   "cell_type": "code",
   "execution_count": 19,
   "metadata": {},
   "outputs": [
    {
     "data": {
      "text/html": [
       "<div>\n",
       "<style>\n",
       "    .dataframe thead tr:only-child th {\n",
       "        text-align: right;\n",
       "    }\n",
       "\n",
       "    .dataframe thead th {\n",
       "        text-align: left;\n",
       "    }\n",
       "\n",
       "    .dataframe tbody tr th {\n",
       "        vertical-align: top;\n",
       "    }\n",
       "</style>\n",
       "<table border=\"1\" class=\"dataframe\">\n",
       "  <thead>\n",
       "    <tr style=\"text-align: right;\">\n",
       "      <th></th>\n",
       "      <th>Timestamp</th>\n",
       "      <th>Starbucks</th>\n",
       "      <th>PhilzCoffee</th>\n",
       "      <th>BlueBottleCoffee</th>\n",
       "      <th>PeetsTea</th>\n",
       "      <th>CaffeTrieste</th>\n",
       "      <th>GrandCoffee</th>\n",
       "      <th>RitualCoffee</th>\n",
       "      <th>FourBarrel</th>\n",
       "      <th>WorkshopCafe</th>\n",
       "    </tr>\n",
       "    <tr>\n",
       "      <th>Name</th>\n",
       "      <th></th>\n",
       "      <th></th>\n",
       "      <th></th>\n",
       "      <th></th>\n",
       "      <th></th>\n",
       "      <th></th>\n",
       "      <th></th>\n",
       "      <th></th>\n",
       "      <th></th>\n",
       "      <th></th>\n",
       "    </tr>\n",
       "  </thead>\n",
       "  <tbody>\n",
       "    <tr>\n",
       "      <th>Alison</th>\n",
       "      <td>3/17/2015 18:37:58</td>\n",
       "      <td>3</td>\n",
       "      <td>5</td>\n",
       "      <td>4.0</td>\n",
       "      <td>3.0</td>\n",
       "      <td>NaN</td>\n",
       "      <td>NaN</td>\n",
       "      <td>5.0</td>\n",
       "      <td>5.0</td>\n",
       "      <td>NaN</td>\n",
       "    </tr>\n",
       "    <tr>\n",
       "      <th>April</th>\n",
       "      <td>3/17/2015 18:38:09</td>\n",
       "      <td>4</td>\n",
       "      <td>5</td>\n",
       "      <td>5.0</td>\n",
       "      <td>3.0</td>\n",
       "      <td>NaN</td>\n",
       "      <td>NaN</td>\n",
       "      <td>3.0</td>\n",
       "      <td>NaN</td>\n",
       "      <td>5.0</td>\n",
       "    </tr>\n",
       "    <tr>\n",
       "      <th>Vijay</th>\n",
       "      <td>3/17/2015 18:38:25</td>\n",
       "      <td>3</td>\n",
       "      <td>5</td>\n",
       "      <td>5.0</td>\n",
       "      <td>5.0</td>\n",
       "      <td>3.0</td>\n",
       "      <td>2.0</td>\n",
       "      <td>1.0</td>\n",
       "      <td>1.0</td>\n",
       "      <td>1.0</td>\n",
       "    </tr>\n",
       "    <tr>\n",
       "      <th>Vanessa</th>\n",
       "      <td>3/17/2015 18:38:28</td>\n",
       "      <td>1</td>\n",
       "      <td>5</td>\n",
       "      <td>5.0</td>\n",
       "      <td>2.0</td>\n",
       "      <td>NaN</td>\n",
       "      <td>NaN</td>\n",
       "      <td>3.0</td>\n",
       "      <td>2.0</td>\n",
       "      <td>3.0</td>\n",
       "    </tr>\n",
       "    <tr>\n",
       "      <th>Isabel</th>\n",
       "      <td>3/17/2015 18:38:46</td>\n",
       "      <td>1</td>\n",
       "      <td>4</td>\n",
       "      <td>4.0</td>\n",
       "      <td>2.0</td>\n",
       "      <td>4.0</td>\n",
       "      <td>NaN</td>\n",
       "      <td>4.0</td>\n",
       "      <td>4.0</td>\n",
       "      <td>NaN</td>\n",
       "    </tr>\n",
       "    <tr>\n",
       "      <th>...</th>\n",
       "      <td>...</td>\n",
       "      <td>...</td>\n",
       "      <td>...</td>\n",
       "      <td>...</td>\n",
       "      <td>...</td>\n",
       "      <td>...</td>\n",
       "      <td>...</td>\n",
       "      <td>...</td>\n",
       "      <td>...</td>\n",
       "      <td>...</td>\n",
       "    </tr>\n",
       "    <tr>\n",
       "      <th>Markus</th>\n",
       "      <td>3/17/2015 18:40:49</td>\n",
       "      <td>3</td>\n",
       "      <td>5</td>\n",
       "      <td>NaN</td>\n",
       "      <td>3.0</td>\n",
       "      <td>NaN</td>\n",
       "      <td>NaN</td>\n",
       "      <td>4.0</td>\n",
       "      <td>NaN</td>\n",
       "      <td>NaN</td>\n",
       "    </tr>\n",
       "    <tr>\n",
       "      <th>Otto</th>\n",
       "      <td>3/17/2015 18:41:18</td>\n",
       "      <td>4</td>\n",
       "      <td>2</td>\n",
       "      <td>2.0</td>\n",
       "      <td>5.0</td>\n",
       "      <td>NaN</td>\n",
       "      <td>NaN</td>\n",
       "      <td>3.0</td>\n",
       "      <td>3.0</td>\n",
       "      <td>3.0</td>\n",
       "    </tr>\n",
       "    <tr>\n",
       "      <th>Alessandro</th>\n",
       "      <td>3/17/2015 18:41:23</td>\n",
       "      <td>1</td>\n",
       "      <td>5</td>\n",
       "      <td>3.0</td>\n",
       "      <td>2.0</td>\n",
       "      <td>NaN</td>\n",
       "      <td>NaN</td>\n",
       "      <td>4.0</td>\n",
       "      <td>3.0</td>\n",
       "      <td>NaN</td>\n",
       "    </tr>\n",
       "    <tr>\n",
       "      <th>Rocky</th>\n",
       "      <td>3/17/2015 18:41:35</td>\n",
       "      <td>3</td>\n",
       "      <td>5</td>\n",
       "      <td>4.0</td>\n",
       "      <td>3.0</td>\n",
       "      <td>3.0</td>\n",
       "      <td>3.0</td>\n",
       "      <td>4.0</td>\n",
       "      <td>4.0</td>\n",
       "      <td>3.0</td>\n",
       "    </tr>\n",
       "    <tr>\n",
       "      <th>cheong-tseng eng</th>\n",
       "      <td>3/17/2015 18:42:01</td>\n",
       "      <td>3</td>\n",
       "      <td>1</td>\n",
       "      <td>NaN</td>\n",
       "      <td>NaN</td>\n",
       "      <td>NaN</td>\n",
       "      <td>NaN</td>\n",
       "      <td>4.0</td>\n",
       "      <td>NaN</td>\n",
       "      <td>NaN</td>\n",
       "    </tr>\n",
       "  </tbody>\n",
       "</table>\n",
       "<p>20 rows × 10 columns</p>\n",
       "</div>"
      ],
      "text/plain": [
       "                           Timestamp  Starbucks  PhilzCoffee  \\\n",
       "Name                                                           \n",
       "Alison            3/17/2015 18:37:58          3            5   \n",
       "April             3/17/2015 18:38:09          4            5   \n",
       "Vijay             3/17/2015 18:38:25          3            5   \n",
       "Vanessa           3/17/2015 18:38:28          1            5   \n",
       "Isabel            3/17/2015 18:38:46          1            4   \n",
       "...                              ...        ...          ...   \n",
       "Markus            3/17/2015 18:40:49          3            5   \n",
       "Otto              3/17/2015 18:41:18          4            2   \n",
       "Alessandro        3/17/2015 18:41:23          1            5   \n",
       "Rocky             3/17/2015 18:41:35          3            5   \n",
       "cheong-tseng eng  3/17/2015 18:42:01          3            1   \n",
       "\n",
       "                  BlueBottleCoffee  PeetsTea  CaffeTrieste  GrandCoffee  \\\n",
       "Name                                                                      \n",
       "Alison                         4.0       3.0           NaN          NaN   \n",
       "April                          5.0       3.0           NaN          NaN   \n",
       "Vijay                          5.0       5.0           3.0          2.0   \n",
       "Vanessa                        5.0       2.0           NaN          NaN   \n",
       "Isabel                         4.0       2.0           4.0          NaN   \n",
       "...                            ...       ...           ...          ...   \n",
       "Markus                         NaN       3.0           NaN          NaN   \n",
       "Otto                           2.0       5.0           NaN          NaN   \n",
       "Alessandro                     3.0       2.0           NaN          NaN   \n",
       "Rocky                          4.0       3.0           3.0          3.0   \n",
       "cheong-tseng eng               NaN       NaN           NaN          NaN   \n",
       "\n",
       "                  RitualCoffee  FourBarrel  WorkshopCafe  \n",
       "Name                                                      \n",
       "Alison                     5.0         5.0           NaN  \n",
       "April                      3.0         NaN           5.0  \n",
       "Vijay                      1.0         1.0           1.0  \n",
       "Vanessa                    3.0         2.0           3.0  \n",
       "Isabel                     4.0         4.0           NaN  \n",
       "...                        ...         ...           ...  \n",
       "Markus                     4.0         NaN           NaN  \n",
       "Otto                       3.0         3.0           3.0  \n",
       "Alessandro                 4.0         3.0           NaN  \n",
       "Rocky                      4.0         4.0           3.0  \n",
       "cheong-tseng eng           4.0         NaN           NaN  \n",
       "\n",
       "[20 rows x 10 columns]"
      ]
     },
     "execution_count": 19,
     "metadata": {},
     "output_type": "execute_result"
    }
   ],
   "source": [
    "df.set_index('Name')"
   ]
  },
  {
   "cell_type": "code",
   "execution_count": 23,
   "metadata": {},
   "outputs": [
    {
     "data": {
      "text/html": [
       "<div>\n",
       "<style>\n",
       "    .dataframe thead tr:only-child th {\n",
       "        text-align: right;\n",
       "    }\n",
       "\n",
       "    .dataframe thead th {\n",
       "        text-align: left;\n",
       "    }\n",
       "\n",
       "    .dataframe tbody tr th {\n",
       "        vertical-align: top;\n",
       "    }\n",
       "</style>\n",
       "<table border=\"1\" class=\"dataframe\">\n",
       "  <thead>\n",
       "    <tr style=\"text-align: right;\">\n",
       "      <th></th>\n",
       "      <th>Timestamp</th>\n",
       "      <th>Name</th>\n",
       "      <th>Starbucks</th>\n",
       "      <th>PhilzCoffee</th>\n",
       "      <th>BlueBottleCoffee</th>\n",
       "      <th>...</th>\n",
       "      <th>CaffeTrieste</th>\n",
       "      <th>GrandCoffee</th>\n",
       "      <th>RitualCoffee</th>\n",
       "      <th>FourBarrel</th>\n",
       "      <th>WorkshopCafe</th>\n",
       "    </tr>\n",
       "  </thead>\n",
       "  <tbody>\n",
       "    <tr>\n",
       "      <th>0</th>\n",
       "      <td>3/17/2015 18:37:58</td>\n",
       "      <td>Alison</td>\n",
       "      <td>3</td>\n",
       "      <td>5</td>\n",
       "      <td>4.0</td>\n",
       "      <td>...</td>\n",
       "      <td>0.0</td>\n",
       "      <td>0.0</td>\n",
       "      <td>5.0</td>\n",
       "      <td>5.0</td>\n",
       "      <td>0.0</td>\n",
       "    </tr>\n",
       "    <tr>\n",
       "      <th>1</th>\n",
       "      <td>3/17/2015 18:38:09</td>\n",
       "      <td>April</td>\n",
       "      <td>4</td>\n",
       "      <td>5</td>\n",
       "      <td>5.0</td>\n",
       "      <td>...</td>\n",
       "      <td>0.0</td>\n",
       "      <td>0.0</td>\n",
       "      <td>3.0</td>\n",
       "      <td>0.0</td>\n",
       "      <td>5.0</td>\n",
       "    </tr>\n",
       "    <tr>\n",
       "      <th>2</th>\n",
       "      <td>3/17/2015 18:38:25</td>\n",
       "      <td>Vijay</td>\n",
       "      <td>3</td>\n",
       "      <td>5</td>\n",
       "      <td>5.0</td>\n",
       "      <td>...</td>\n",
       "      <td>3.0</td>\n",
       "      <td>2.0</td>\n",
       "      <td>1.0</td>\n",
       "      <td>1.0</td>\n",
       "      <td>1.0</td>\n",
       "    </tr>\n",
       "    <tr>\n",
       "      <th>3</th>\n",
       "      <td>3/17/2015 18:38:28</td>\n",
       "      <td>Vanessa</td>\n",
       "      <td>1</td>\n",
       "      <td>5</td>\n",
       "      <td>5.0</td>\n",
       "      <td>...</td>\n",
       "      <td>0.0</td>\n",
       "      <td>0.0</td>\n",
       "      <td>3.0</td>\n",
       "      <td>2.0</td>\n",
       "      <td>3.0</td>\n",
       "    </tr>\n",
       "    <tr>\n",
       "      <th>4</th>\n",
       "      <td>3/17/2015 18:38:46</td>\n",
       "      <td>Isabel</td>\n",
       "      <td>1</td>\n",
       "      <td>4</td>\n",
       "      <td>4.0</td>\n",
       "      <td>...</td>\n",
       "      <td>4.0</td>\n",
       "      <td>0.0</td>\n",
       "      <td>4.0</td>\n",
       "      <td>4.0</td>\n",
       "      <td>0.0</td>\n",
       "    </tr>\n",
       "    <tr>\n",
       "      <th>...</th>\n",
       "      <td>...</td>\n",
       "      <td>...</td>\n",
       "      <td>...</td>\n",
       "      <td>...</td>\n",
       "      <td>...</td>\n",
       "      <td>...</td>\n",
       "      <td>...</td>\n",
       "      <td>...</td>\n",
       "      <td>...</td>\n",
       "      <td>...</td>\n",
       "      <td>...</td>\n",
       "    </tr>\n",
       "    <tr>\n",
       "      <th>15</th>\n",
       "      <td>3/17/2015 18:40:49</td>\n",
       "      <td>Markus</td>\n",
       "      <td>3</td>\n",
       "      <td>5</td>\n",
       "      <td>0.0</td>\n",
       "      <td>...</td>\n",
       "      <td>0.0</td>\n",
       "      <td>0.0</td>\n",
       "      <td>4.0</td>\n",
       "      <td>0.0</td>\n",
       "      <td>0.0</td>\n",
       "    </tr>\n",
       "    <tr>\n",
       "      <th>16</th>\n",
       "      <td>3/17/2015 18:41:18</td>\n",
       "      <td>Otto</td>\n",
       "      <td>4</td>\n",
       "      <td>2</td>\n",
       "      <td>2.0</td>\n",
       "      <td>...</td>\n",
       "      <td>0.0</td>\n",
       "      <td>0.0</td>\n",
       "      <td>3.0</td>\n",
       "      <td>3.0</td>\n",
       "      <td>3.0</td>\n",
       "    </tr>\n",
       "    <tr>\n",
       "      <th>17</th>\n",
       "      <td>3/17/2015 18:41:23</td>\n",
       "      <td>Alessandro</td>\n",
       "      <td>1</td>\n",
       "      <td>5</td>\n",
       "      <td>3.0</td>\n",
       "      <td>...</td>\n",
       "      <td>0.0</td>\n",
       "      <td>0.0</td>\n",
       "      <td>4.0</td>\n",
       "      <td>3.0</td>\n",
       "      <td>0.0</td>\n",
       "    </tr>\n",
       "    <tr>\n",
       "      <th>18</th>\n",
       "      <td>3/17/2015 18:41:35</td>\n",
       "      <td>Rocky</td>\n",
       "      <td>3</td>\n",
       "      <td>5</td>\n",
       "      <td>4.0</td>\n",
       "      <td>...</td>\n",
       "      <td>3.0</td>\n",
       "      <td>3.0</td>\n",
       "      <td>4.0</td>\n",
       "      <td>4.0</td>\n",
       "      <td>3.0</td>\n",
       "    </tr>\n",
       "    <tr>\n",
       "      <th>19</th>\n",
       "      <td>3/17/2015 18:42:01</td>\n",
       "      <td>cheong-tseng eng</td>\n",
       "      <td>3</td>\n",
       "      <td>1</td>\n",
       "      <td>0.0</td>\n",
       "      <td>...</td>\n",
       "      <td>0.0</td>\n",
       "      <td>0.0</td>\n",
       "      <td>4.0</td>\n",
       "      <td>0.0</td>\n",
       "      <td>0.0</td>\n",
       "    </tr>\n",
       "  </tbody>\n",
       "</table>\n",
       "<p>20 rows × 11 columns</p>\n",
       "</div>"
      ],
      "text/plain": [
       "             Timestamp              Name  Starbucks  PhilzCoffee  \\\n",
       "0   3/17/2015 18:37:58            Alison          3            5   \n",
       "1   3/17/2015 18:38:09             April          4            5   \n",
       "2   3/17/2015 18:38:25             Vijay          3            5   \n",
       "3   3/17/2015 18:38:28           Vanessa          1            5   \n",
       "4   3/17/2015 18:38:46            Isabel          1            4   \n",
       "..                 ...               ...        ...          ...   \n",
       "15  3/17/2015 18:40:49            Markus          3            5   \n",
       "16  3/17/2015 18:41:18              Otto          4            2   \n",
       "17  3/17/2015 18:41:23        Alessandro          1            5   \n",
       "18  3/17/2015 18:41:35             Rocky          3            5   \n",
       "19  3/17/2015 18:42:01  cheong-tseng eng          3            1   \n",
       "\n",
       "    BlueBottleCoffee      ...       CaffeTrieste  GrandCoffee  RitualCoffee  \\\n",
       "0                4.0      ...                0.0          0.0           5.0   \n",
       "1                5.0      ...                0.0          0.0           3.0   \n",
       "2                5.0      ...                3.0          2.0           1.0   \n",
       "3                5.0      ...                0.0          0.0           3.0   \n",
       "4                4.0      ...                4.0          0.0           4.0   \n",
       "..               ...      ...                ...          ...           ...   \n",
       "15               0.0      ...                0.0          0.0           4.0   \n",
       "16               2.0      ...                0.0          0.0           3.0   \n",
       "17               3.0      ...                0.0          0.0           4.0   \n",
       "18               4.0      ...                3.0          3.0           4.0   \n",
       "19               0.0      ...                0.0          0.0           4.0   \n",
       "\n",
       "    FourBarrel  WorkshopCafe  \n",
       "0          5.0           0.0  \n",
       "1          0.0           5.0  \n",
       "2          1.0           1.0  \n",
       "3          2.0           3.0  \n",
       "4          4.0           0.0  \n",
       "..         ...           ...  \n",
       "15         0.0           0.0  \n",
       "16         3.0           3.0  \n",
       "17         3.0           0.0  \n",
       "18         4.0           3.0  \n",
       "19         0.0           0.0  \n",
       "\n",
       "[20 rows x 11 columns]"
      ]
     },
     "execution_count": 23,
     "metadata": {},
     "output_type": "execute_result"
    }
   ],
   "source": [
    "# Replace nan with 0\n",
    "\n",
    "df.fillna(0)\n"
   ]
  },
  {
   "cell_type": "code",
   "execution_count": 19,
   "metadata": {},
   "outputs": [
    {
     "data": {
      "text/plain": [
       "Timestamp           3/17/2015 18:37:583/17/2015 18:38:093/17/2015 ...\n",
       "Name                AlisonAprilVijayVanessaIsabelIndiaDave HDeepth...\n",
       "Starbucks                                                          57\n",
       "PhilzCoffee                                                        85\n",
       "BlueBottleCoffee                                                   56\n",
       "                                          ...                        \n",
       "CaffeTrieste                                                       27\n",
       "GrandCoffee                                                        10\n",
       "RitualCoffee                                                       49\n",
       "FourBarrel                                                         33\n",
       "WorkshopCafe                                                       35\n",
       "Length: 11, dtype: object"
      ]
     },
     "execution_count": 19,
     "metadata": {},
     "output_type": "execute_result"
    }
   ],
   "source": [
    "#Sum columns\n",
    "\n",
    "df_columns_sum = df.sum(axis = 0)\n",
    "df_columns_sum"
   ]
  },
  {
   "cell_type": "code",
   "execution_count": 15,
   "metadata": {},
   "outputs": [
    {
     "data": {
      "text/plain": [
       "Index([u'Timestamp', u'Name', u'Starbucks', u'PhilzCoffee',\n",
       "       u'BlueBottleCoffee', u'PeetsTea', u'CaffeTrieste', u'GrandCoffee',\n",
       "       u'RitualCoffee', u'FourBarrel', u'WorkshopCafe'],\n",
       "      dtype='object')"
      ]
     },
     "execution_count": 15,
     "metadata": {},
     "output_type": "execute_result"
    }
   ],
   "source": [
    "#Print column names\n",
    "\n",
    "df.columns"
   ]
  },
  {
   "cell_type": "code",
   "execution_count": 14,
   "metadata": {},
   "outputs": [
    {
     "data": {
      "text/plain": [
       "0     3/17/2015 18:37:58\n",
       "1     3/17/2015 18:38:09\n",
       "2     3/17/2015 18:38:25\n",
       "3     3/17/2015 18:38:28\n",
       "4     3/17/2015 18:38:46\n",
       "             ...        \n",
       "15    3/17/2015 18:40:49\n",
       "16    3/17/2015 18:41:18\n",
       "17    3/17/2015 18:41:23\n",
       "18    3/17/2015 18:41:35\n",
       "19    3/17/2015 18:42:01\n",
       "Name: Timestamp, Length: 20, dtype: object"
      ]
     },
     "execution_count": 14,
     "metadata": {},
     "output_type": "execute_result"
    }
   ],
   "source": [
    "# Print first 2 columns\n",
    "\n",
    "df['Timestamp']"
   ]
  },
  {
   "cell_type": "code",
   "execution_count": 17,
   "metadata": {},
   "outputs": [
    {
     "data": {
      "text/plain": [
       "array(['Alison', 'April', 'Vijay', 'Vanessa', 'Isabel', 'India', 'Dave H',\n",
       "       'Deepthi', 'Ramesh', 'Hugh Jass', 'Alex', 'Ajay Anand',\n",
       "       'David Feng', 'Zach', 'Matt', 'Markus', 'Otto', 'Alessandro',\n",
       "       'Rocky', 'cheong-tseng eng'], dtype=object)"
      ]
     },
     "execution_count": 17,
     "metadata": {},
     "output_type": "execute_result"
    }
   ],
   "source": [
    "# Who are in the datasets?\n",
    "\n",
    "df.Name.unique()"
   ]
  },
  {
   "cell_type": "code",
   "execution_count": 20,
   "metadata": {},
   "outputs": [
    {
     "data": {
      "text/plain": [
       "array(['3/17/2015 18:37:58', '3/17/2015 18:38:09', '3/17/2015 18:38:25',\n",
       "       '3/17/2015 18:38:28', '3/17/2015 18:38:46', '3/17/2015 18:39:01',\n",
       "       '3/17/2015 18:39:05', '3/17/2015 18:39:14', '3/17/2015 18:39:23',\n",
       "       '3/17/2015 18:39:30', '3/17/2015 18:39:35', '3/17/2015 18:39:42',\n",
       "       '3/17/2015 18:40:44', '3/17/2015 18:40:49', '3/17/2015 18:41:18',\n",
       "       '3/17/2015 18:41:23', '3/17/2015 18:41:35', '3/17/2015 18:42:01'], dtype=object)"
      ]
     },
     "execution_count": 20,
     "metadata": {},
     "output_type": "execute_result"
    }
   ],
   "source": [
    "# What days are coffees being sold?\n",
    "df.Timestamp.unique()"
   ]
  },
  {
   "cell_type": "markdown",
   "metadata": {},
   "source": [
    "\n"
   ]
  },
  {
   "cell_type": "code",
   "execution_count": 38,
   "metadata": {},
   "outputs": [
    {
     "data": {
      "text/plain": [
       "Name\n",
       "Alison              25.0\n",
       "April               25.0\n",
       "Vijay               26.0\n",
       "Vanessa             21.0\n",
       "Isabel              23.0\n",
       "                    ... \n",
       "Markus              15.0\n",
       "Otto                22.0\n",
       "Alessandro          18.0\n",
       "Rocky               32.0\n",
       "cheong-tseng eng     8.0\n",
       "Length: 20, dtype: float64"
      ]
     },
     "execution_count": 38,
     "metadata": {},
     "output_type": "execute_result"
    }
   ],
   "source": [
    "# How much did Alison score the coffese?\n",
    "\n",
    "\n",
    "name_index = df.set_index('Name')\n",
    "name_index.fillna(0)\n",
    "\n",
    "name_totals = name_index.sum(axis=1)\n",
    "name_totals"
   ]
  },
  {
   "cell_type": "code",
   "execution_count": 44,
   "metadata": {},
   "outputs": [
    {
     "data": {
      "text/plain": [
       "<pandas.core.groupby.DataFrameGroupBy object at 0x0000000009B3DA20>"
      ]
     },
     "execution_count": 44,
     "metadata": {},
     "output_type": "execute_result"
    }
   ],
   "source": [
    "# What was the average score for everyone?\n",
    "\n",
    "df.groupby(['Name'])"
   ]
  },
  {
   "cell_type": "code",
   "execution_count": null,
   "metadata": {
    "collapsed": true
   },
   "outputs": [],
   "source": []
  }
 ],
 "metadata": {
  "kernelspec": {
   "display_name": "Python 2",
   "language": "python",
   "name": "python2"
  },
  "language_info": {
   "codemirror_mode": {
    "name": "ipython",
    "version": 2
   },
   "file_extension": ".py",
   "mimetype": "text/x-python",
   "name": "python",
   "nbconvert_exporter": "python",
   "pygments_lexer": "ipython2",
   "version": "2.7.14"
  }
 },
 "nbformat": 4,
 "nbformat_minor": 1
}
