{
 "cells": [
  {
   "cell_type": "markdown",
   "metadata": {},
   "source": [
    "<img src=\"http://imgur.com/1ZcRyrc.png\" style=\"float: left; margin: 20px; height: 55px\">\n",
    "\n",
    "## DS-SF-42 | 05 | Hypothesis Testing\n",
    "\n",
    "---\n",
    "\n",
    "### Learning Objectives\n",
    "- Understand the fundamental concepts of Frequentist hypothesis testing\n",
    "- Understand the difference between the null and alternative hypothesis\n",
    "- Apply an understanding of statistical hypothesis testing within the context of split testing.\n",
    "- Apply the independent samples t-test\n",
    "- Apply the chi-squared test of independence to \"winner\" a split test.\n",
    "- Understand the relationship between p-values, alpha thresholds, and statistical significance.\n",
    "\n"
   ]
  },
  {
   "cell_type": "code",
   "execution_count": 1,
   "metadata": {
    "collapsed": true
   },
   "outputs": [],
   "source": [
    "import matplotlib.pyplot as plt\n",
    "import numpy as np\n",
    "import pandas as pd\n",
    "import seaborn as sns\n",
    "import scipy.stats as stats\n",
    "\n",
    "plt.style.use('fivethirtyeight')\n",
    "\n",
    "%matplotlib inline\n",
    "%config InlineBackend.figure_format = 'retina'"
   ]
  },
  {
   "cell_type": "markdown",
   "metadata": {},
   "source": [
    "### Performing a T-test in Python (with a discussion of Type II error)\n",
    "\n",
    "---\n",
    "\n",
    "Recall that Z-test only works when you know the population mean and standard devation, which is rarely the case. Often it's only possible to compare two independent samples. The most basic scenario is one control and one treatment group. If the outcome between the two is sufficiently large, then it is reasonable to deem the null-hypothesis impropable enough to reject.\n",
    "\n",
    "**EXAMPLE:** _Are DS part-time students taller than DSI students?_\n",
    "\n",
    "We might collect data on two classes, of thirty students each"
   ]
  },
  {
   "cell_type": "code",
   "execution_count": 2,
   "metadata": {
    "collapsed": true
   },
   "outputs": [],
   "source": [
    "#generate data\n",
    "fulltime = np.array([69., 69., 63., 65., 65., 67., 59., 63., 70., 59., 67., 64., 72.,\n",
    "                    70., 65., 65., 65., 64., 65., 66., 63., 63., 62., 66., 62., 66.,\n",
    "                    66., 64., 71., 68.])\n",
    "\n",
    "parttime = np.array([74., 72., 61., 65., 65., 70., 64., 66., 65., 67., 67., 69., 73.,\n",
    "                     73., 71., 66., 65., 76., 63., 67., 67., 69., 61., 62., 62., 67.,\n",
    "                     59., 66., 62., 68.])"
   ]
  },
  {
   "cell_type": "markdown",
   "metadata": {},
   "source": [
    "> ### <font color=blue>Partner Practice</font> - Activity: What do you make of these data? Is there a real difference? How certain can you be? Use descriptive statistics, plotting, or any other tools you think might be useful."
   ]
  },
  {
   "cell_type": "code",
   "execution_count": 3,
   "metadata": {},
   "outputs": [
    {
     "data": {
      "text/html": [
       "<div>\n",
       "<style>\n",
       "    .dataframe thead tr:only-child th {\n",
       "        text-align: right;\n",
       "    }\n",
       "\n",
       "    .dataframe thead th {\n",
       "        text-align: left;\n",
       "    }\n",
       "\n",
       "    .dataframe tbody tr th {\n",
       "        vertical-align: top;\n",
       "    }\n",
       "</style>\n",
       "<table border=\"1\" class=\"dataframe\">\n",
       "  <thead>\n",
       "    <tr style=\"text-align: right;\">\n",
       "      <th></th>\n",
       "      <th>fulltime</th>\n",
       "      <th>parttime</th>\n",
       "    </tr>\n",
       "  </thead>\n",
       "  <tbody>\n",
       "    <tr>\n",
       "      <th>0</th>\n",
       "      <td>69.0</td>\n",
       "      <td>74.0</td>\n",
       "    </tr>\n",
       "    <tr>\n",
       "      <th>1</th>\n",
       "      <td>69.0</td>\n",
       "      <td>72.0</td>\n",
       "    </tr>\n",
       "    <tr>\n",
       "      <th>2</th>\n",
       "      <td>63.0</td>\n",
       "      <td>61.0</td>\n",
       "    </tr>\n",
       "    <tr>\n",
       "      <th>3</th>\n",
       "      <td>65.0</td>\n",
       "      <td>65.0</td>\n",
       "    </tr>\n",
       "    <tr>\n",
       "      <th>4</th>\n",
       "      <td>65.0</td>\n",
       "      <td>65.0</td>\n",
       "    </tr>\n",
       "    <tr>\n",
       "      <th>5</th>\n",
       "      <td>67.0</td>\n",
       "      <td>70.0</td>\n",
       "    </tr>\n",
       "    <tr>\n",
       "      <th>6</th>\n",
       "      <td>59.0</td>\n",
       "      <td>64.0</td>\n",
       "    </tr>\n",
       "    <tr>\n",
       "      <th>7</th>\n",
       "      <td>63.0</td>\n",
       "      <td>66.0</td>\n",
       "    </tr>\n",
       "    <tr>\n",
       "      <th>8</th>\n",
       "      <td>70.0</td>\n",
       "      <td>65.0</td>\n",
       "    </tr>\n",
       "    <tr>\n",
       "      <th>9</th>\n",
       "      <td>59.0</td>\n",
       "      <td>67.0</td>\n",
       "    </tr>\n",
       "    <tr>\n",
       "      <th>10</th>\n",
       "      <td>67.0</td>\n",
       "      <td>67.0</td>\n",
       "    </tr>\n",
       "    <tr>\n",
       "      <th>11</th>\n",
       "      <td>64.0</td>\n",
       "      <td>69.0</td>\n",
       "    </tr>\n",
       "    <tr>\n",
       "      <th>12</th>\n",
       "      <td>72.0</td>\n",
       "      <td>73.0</td>\n",
       "    </tr>\n",
       "    <tr>\n",
       "      <th>13</th>\n",
       "      <td>70.0</td>\n",
       "      <td>73.0</td>\n",
       "    </tr>\n",
       "    <tr>\n",
       "      <th>14</th>\n",
       "      <td>65.0</td>\n",
       "      <td>71.0</td>\n",
       "    </tr>\n",
       "    <tr>\n",
       "      <th>15</th>\n",
       "      <td>65.0</td>\n",
       "      <td>66.0</td>\n",
       "    </tr>\n",
       "    <tr>\n",
       "      <th>16</th>\n",
       "      <td>65.0</td>\n",
       "      <td>65.0</td>\n",
       "    </tr>\n",
       "    <tr>\n",
       "      <th>17</th>\n",
       "      <td>64.0</td>\n",
       "      <td>76.0</td>\n",
       "    </tr>\n",
       "    <tr>\n",
       "      <th>18</th>\n",
       "      <td>65.0</td>\n",
       "      <td>63.0</td>\n",
       "    </tr>\n",
       "    <tr>\n",
       "      <th>19</th>\n",
       "      <td>66.0</td>\n",
       "      <td>67.0</td>\n",
       "    </tr>\n",
       "    <tr>\n",
       "      <th>20</th>\n",
       "      <td>63.0</td>\n",
       "      <td>67.0</td>\n",
       "    </tr>\n",
       "    <tr>\n",
       "      <th>21</th>\n",
       "      <td>63.0</td>\n",
       "      <td>69.0</td>\n",
       "    </tr>\n",
       "    <tr>\n",
       "      <th>22</th>\n",
       "      <td>62.0</td>\n",
       "      <td>61.0</td>\n",
       "    </tr>\n",
       "    <tr>\n",
       "      <th>23</th>\n",
       "      <td>66.0</td>\n",
       "      <td>62.0</td>\n",
       "    </tr>\n",
       "    <tr>\n",
       "      <th>24</th>\n",
       "      <td>62.0</td>\n",
       "      <td>62.0</td>\n",
       "    </tr>\n",
       "    <tr>\n",
       "      <th>25</th>\n",
       "      <td>66.0</td>\n",
       "      <td>67.0</td>\n",
       "    </tr>\n",
       "    <tr>\n",
       "      <th>26</th>\n",
       "      <td>66.0</td>\n",
       "      <td>59.0</td>\n",
       "    </tr>\n",
       "    <tr>\n",
       "      <th>27</th>\n",
       "      <td>64.0</td>\n",
       "      <td>66.0</td>\n",
       "    </tr>\n",
       "    <tr>\n",
       "      <th>28</th>\n",
       "      <td>71.0</td>\n",
       "      <td>62.0</td>\n",
       "    </tr>\n",
       "    <tr>\n",
       "      <th>29</th>\n",
       "      <td>68.0</td>\n",
       "      <td>68.0</td>\n",
       "    </tr>\n",
       "  </tbody>\n",
       "</table>\n",
       "</div>"
      ],
      "text/plain": [
       "    fulltime  parttime\n",
       "0       69.0      74.0\n",
       "1       69.0      72.0\n",
       "2       63.0      61.0\n",
       "3       65.0      65.0\n",
       "4       65.0      65.0\n",
       "5       67.0      70.0\n",
       "6       59.0      64.0\n",
       "7       63.0      66.0\n",
       "8       70.0      65.0\n",
       "9       59.0      67.0\n",
       "10      67.0      67.0\n",
       "11      64.0      69.0\n",
       "12      72.0      73.0\n",
       "13      70.0      73.0\n",
       "14      65.0      71.0\n",
       "15      65.0      66.0\n",
       "16      65.0      65.0\n",
       "17      64.0      76.0\n",
       "18      65.0      63.0\n",
       "19      66.0      67.0\n",
       "20      63.0      67.0\n",
       "21      63.0      69.0\n",
       "22      62.0      61.0\n",
       "23      66.0      62.0\n",
       "24      62.0      62.0\n",
       "25      66.0      67.0\n",
       "26      66.0      59.0\n",
       "27      64.0      66.0\n",
       "28      71.0      62.0\n",
       "29      68.0      68.0"
      ]
     },
     "execution_count": 3,
     "metadata": {},
     "output_type": "execute_result"
    }
   ],
   "source": [
    "#1 Turn things into dataframes .T will transpose\n",
    "#1 pd.DataFrame([fulltime, parttime]).T\n",
    "\n",
    "#2 Give an index to the names\n",
    "heights = pd.DataFrame([fulltime, parttime], index=['fulltime','parttime']).T\n",
    "heights"
   ]
  },
  {
   "cell_type": "code",
   "execution_count": 13,
   "metadata": {},
   "outputs": [
    {
     "data": {
      "text/html": [
       "<div>\n",
       "<style>\n",
       "    .dataframe thead tr:only-child th {\n",
       "        text-align: right;\n",
       "    }\n",
       "\n",
       "    .dataframe thead th {\n",
       "        text-align: left;\n",
       "    }\n",
       "\n",
       "    .dataframe tbody tr th {\n",
       "        vertical-align: top;\n",
       "    }\n",
       "</style>\n",
       "<table border=\"1\" class=\"dataframe\">\n",
       "  <thead>\n",
       "    <tr style=\"text-align: right;\">\n",
       "      <th></th>\n",
       "      <th>fulltime</th>\n",
       "      <th>parttime</th>\n",
       "    </tr>\n",
       "  </thead>\n",
       "  <tbody>\n",
       "    <tr>\n",
       "      <th>count</th>\n",
       "      <td>30.000000</td>\n",
       "      <td>30.000000</td>\n",
       "    </tr>\n",
       "    <tr>\n",
       "      <th>mean</th>\n",
       "      <td>65.433333</td>\n",
       "      <td>66.733333</td>\n",
       "    </tr>\n",
       "    <tr>\n",
       "      <th>std</th>\n",
       "      <td>3.169720</td>\n",
       "      <td>4.209458</td>\n",
       "    </tr>\n",
       "    <tr>\n",
       "      <th>min</th>\n",
       "      <td>59.000000</td>\n",
       "      <td>59.000000</td>\n",
       "    </tr>\n",
       "    <tr>\n",
       "      <th>25%</th>\n",
       "      <td>63.250000</td>\n",
       "      <td>64.250000</td>\n",
       "    </tr>\n",
       "    <tr>\n",
       "      <th>50%</th>\n",
       "      <td>65.000000</td>\n",
       "      <td>66.500000</td>\n",
       "    </tr>\n",
       "    <tr>\n",
       "      <th>75%</th>\n",
       "      <td>67.000000</td>\n",
       "      <td>69.000000</td>\n",
       "    </tr>\n",
       "    <tr>\n",
       "      <th>max</th>\n",
       "      <td>72.000000</td>\n",
       "      <td>76.000000</td>\n",
       "    </tr>\n",
       "  </tbody>\n",
       "</table>\n",
       "</div>"
      ],
      "text/plain": [
       "        fulltime   parttime\n",
       "count  30.000000  30.000000\n",
       "mean   65.433333  66.733333\n",
       "std     3.169720   4.209458\n",
       "min    59.000000  59.000000\n",
       "25%    63.250000  64.250000\n",
       "50%    65.000000  66.500000\n",
       "75%    67.000000  69.000000\n",
       "max    72.000000  76.000000"
      ]
     },
     "execution_count": 13,
     "metadata": {},
     "output_type": "execute_result"
    }
   ],
   "source": [
    "#Look at some statistics\n",
    "heights.describe()\n",
    "\n",
    "# Looking at data, means are close, standard deviations are spread out"
   ]
  },
  {
   "cell_type": "code",
   "execution_count": 14,
   "metadata": {},
   "outputs": [
    {
     "data": {
      "text/plain": [
       "<matplotlib.axes._subplots.AxesSubplot at 0xbf8e2e8>"
      ]
     },
     "execution_count": 14,
     "metadata": {},
     "output_type": "execute_result"
    },
    {
     "data": {
      "image/png": "[encoded data removed]",
      "text/plain": [
       "<matplotlib.figure.Figure at 0x5f17f60>"
      ]
     },
     "metadata": {
      "image/png": {
       "height": 244,
       "width": 416
      }
     },
     "output_type": "display_data"
    }
   ],
   "source": [
    "#boc plot\n",
    "heights.plot(kind='box')"
   ]
  },
  {
   "cell_type": "code",
   "execution_count": 16,
   "metadata": {},
   "outputs": [
    {
     "data": {
      "text/plain": [
       "<matplotlib.axes._subplots.AxesSubplot at 0xc1e1a20>"
      ]
     },
     "execution_count": 16,
     "metadata": {},
     "output_type": "execute_result"
    },
    {
     "data": {
      "image/png": "[encoded data removed]",
      "text/plain": [
       "<matplotlib.figure.Figure at 0xc2aa278>"
      ]
     },
     "metadata": {
      "image/png": {
       "height": 244,
       "width": 416
      }
     },
     "output_type": "display_data"
    }
   ],
   "source": [
    "#Histogram, alpha is the opacity, bins is the distribution\n",
    "heights.plot(kind='hist', bins = 15, alpha=0.5)\n"
   ]
  },
  {
   "cell_type": "code",
   "execution_count": 33,
   "metadata": {},
   "outputs": [
    {
     "data": {
      "image/png": "[encoded data removed]",
      "text/plain": [
       "<matplotlib.figure.Figure at 0xfc51c18>"
      ]
     },
     "metadata": {
      "image/png": {
       "height": 423,
       "width": 276
      }
     },
     "output_type": "display_data"
    }
   ],
   "source": [
    "# giving figure and axis plot\n",
    "\n",
    "#fig refers to everything all together, axis is a numpy with 2 axis; will give empty datasets then tell what want to plot\n",
    "fig, (ax1,ax2) = plt.subplots(nrows=2, ncols=1, figsize=(4,6))\n",
    "\n",
    "ax1.hist(fulltime, color='red')\n",
    "ax1.set_xlim(left=55, right=75)\n",
    "ax1.set_title('Fulltime (inches)', size=10)\n",
    "\n",
    "ax1.hist(parttime,)\n",
    "ax2.set_xlim(left=55, right=75)\n",
    "ax2.set_title('Parttime (inches)', size=10)\n",
    "\n",
    "plt.tight_layout()\n",
    "plt.show()"
   ]
  },
  {
   "cell_type": "code",
   "execution_count": 34,
   "metadata": {},
   "outputs": [
    {
     "data": {
      "image/png": "[encoded data removed]",
      "text/plain": [
       "<matplotlib.figure.Figure at 0xf5d1550>"
      ]
     },
     "metadata": {
      "image/png": {
       "height": 423,
       "width": 280
      }
     },
     "output_type": "display_data"
    }
   ],
   "source": [
    "fig, (ax1, ax2) = plt.subplots(nrows=2, ncols=1, figsize=(4,6))\n",
    "\n",
    "ax1.hist(fulltime, color=\"red\")\n",
    "ax1.set_xlim(left=55, right=75)\n",
    "ax1.set_title(\"Fulltime heights (inches)\", size=10)\n",
    "\n",
    "ax2.hist(parttime)\n",
    "ax2.set_xlim(left=55, right=75)\n",
    "ax2.set_title(\"Part-time heights (inches)\", size=10)\n",
    "\n",
    "plt.tight_layout()\n",
    "plt.show()"
   ]
  },
  {
   "cell_type": "code",
   "execution_count": 21,
   "metadata": {
    "collapsed": true
   },
   "outputs": [],
   "source": [
    "#multpiple assignment example\n",
    "pets = ('cat','dog')\n",
    "\n",
    "favorite_pets = pets[0]\n",
    "second_favorite = pets[1]\n",
    "\n",
    "#equivalent to this, nested multiple\n",
    "favorite_pet, second_favorite = pets\n",
    "\n",
    "#will assign a = 4 and b =5\n",
    "a,b = 4,5"
   ]
  },
  {
   "cell_type": "markdown",
   "metadata": {},
   "source": [
    "Let's leverage inferential statistics.\n",
    "\n",
    "### The \"null hypothesis\"\n",
    "\n",
    "---\n",
    "\n",
    "The **null hypothesis** is a fundamental concept of Frequentist statistical tests. We typically denote the null hypothesis with **H0**. \n",
    "\n",
    "In our GA height example, we can define our null hypothesis to be that there is no difference in mean height between part-time and full-time student populations.\n",
    "\n",
    "> **H0:** The mean difference between groups is zero.\n",
    "\n",
    "### The \"alternative hypothesis\"\n",
    "\n",
    "---\n",
    "\n",
    "The **alternative hypothesis** is the outcome of the experiment that we hope to show. In our example the alternative hypothesis is that there is in fact a mean difference in height. \n",
    "\n",
    "> **H1:** The parameter of interest, our mean difference between groups, is not zero.\n",
    "\n",
    "**NOTE:** The null hypothesis and alternative hypothesis are concerned with the true values, or in other words the *parameter of the overall population*. Through the process of experimentation / hypothesis testing and statistical analysis of the results we will make an *inference* about this population parameter.\n",
    "\n",
    "#### In our case:\n",
    "\n",
    "H1: There is true difference in means between the heights of parttime and fulltime DS students at GA.\n",
    "\n",
    "H0: There is no mean difference between heights between parttime and fulltime students."
   ]
  },
  {
   "cell_type": "code",
   "execution_count": 35,
   "metadata": {
    "scrolled": true
   },
   "outputs": [
    {
     "data": {
      "text/plain": [
       "Ttest_indResult(statistic=1.3512699109167094, pvalue=0.1818564355115328)"
      ]
     },
     "execution_count": 35,
     "metadata": {},
     "output_type": "execute_result"
    }
   ],
   "source": [
    "# Performing a t-test using scipy already imported as stats\n",
    "\n",
    "stats.ttest_ind(parttime, fulltime)\n",
    "\n",
    "#t statistic is 1.35 - use to look at area, see the pvalue is 0.18 - seems there might be a touch of something but not \n",
    "##enough to reject anything\n",
    "# .18 means under regime of null hypothesis and take it to be true the likelihood is 18% chance that you would \n",
    "##see the difference; if there is not effect this is the probability that we would see what we saw\n",
    "# .18 means this is the probability of observing the mean difference in the population\n",
    "# when get a bigger probability it means its less likely\n",
    "# p value exists to null hypothesis being true\n",
    "# if parttime and fulltime are same people, everyone is identical and get 30 and 30 groups, if did it a million times\n",
    "## then 18% of the times would get a difference this extreme\n",
    "\n",
    "#result of the above looks like a tuple "
   ]
  },
  {
   "cell_type": "code",
   "execution_count": null,
   "metadata": {
    "collapsed": true
   },
   "outputs": [],
   "source": [
    "t_val, p_val = stats.test"
   ]
  },
  {
   "cell_type": "code",
   "execution_count": null,
   "metadata": {
    "collapsed": true
   },
   "outputs": [],
   "source": [
    "#Specified that the datasets have a mean difference of 67 and 64 - specificed standard deviation is a little high\n",
    "#Type 2 error - there is a real difference but unable to compute significantly low p value, fail to accept hypothesis\n",
    "# Similar to sampling from 2 overlapping distributions"
   ]
  },
  {
   "cell_type": "markdown",
   "metadata": {},
   "source": [
    "### <font color=blue>Check - </font> How do we interpret the p-value from this t-test?\n",
    "If there was no real difference in height, we would have an 18% chance of drawing two samples with a mean difference of 1.3 inches or greater\n",
    "\n",
    "### <font color=blue>Discussion - </font> When I generated the data, I deliberately sampled it from two normal distributions with _different_ means. The null hypothesis was incorrect. Why couldn't we reject it?\n",
    "\n",
    "\n",
    "### Which elements of an experiment minimize Type II error?\n",
    "- Expand sample size (as big as possible) - as sample is bigger tightens the data, need less of a mean difference to not be out in the tails; this is what you can control\n",
    "- size of the effect - if there is a 1 foot difference in heights, wouldn't need that big of a sample size because its not that big of a difference) - can't control this\n",
    "- consistency of effect (expected variance)\n"
   ]
  },
  {
   "cell_type": "markdown",
   "metadata": {},
   "source": [
    "<a id='ab-testing'></a>\n",
    "\n",
    "### Introduction to A/B testing\n",
    "\n",
    "---\n",
    "\n",
    "You may have heard the term \"A/B testing,\" or \"split testing,\" before. Simply put, a split test is an experiment that tests different versions of your product with your users. Using these results, you as the data scientist will statistically analyze the experiment and determine a \"winner\" according to a pre-defined metric. \n",
    "\n",
    "**Example: Selling dog collars**\n",
    "\n",
    "Picture this: You work for a startup that sells dog collars. Your web development team has constructed a prototype for a new \"landing page\" on the website (a landing page is the first page users reach when visiting a site). The designers are not sure whether a picture of a black lab wearing the collar or a golden retriever wearing the collar will have more of an impact on the click-through rate (the proportion of users who continue on to the the rest of the website). \n",
    "\n",
    "The team decides to run an A/B test to quantitatively evaluate which picture to choose.\n",
    "- **Arm A** is the version of the landing page with the black lab.\n",
    "- **Arm B** is the version of the landing page with the golden retriever.\n",
    "\n",
    "For two weeks, users will be directed at random to one of the two landing pages with equal probability. At the end of this period, the click-through rates of each arm will be compared and one of the two will be \"winnered.\"\n",
    "\n",
    "Desiging and evaluating A/B tests like this one is one of the most common tasks a data scientist will be asked to perform.\n",
    "\n",
    "**Below are the click-through rates per arm, measured at the end of two weeks.**"
   ]
  },
  {
   "cell_type": "code",
   "execution_count": 36,
   "metadata": {
    "collapsed": true
   },
   "outputs": [],
   "source": [
    "A_wins = 115\n",
    "A_loss = 85\n",
    "B_wins = 87\n",
    "B_loss = 103\n",
    "\n",
    "#Looking at mean difference would think A wins, need to leverage inferential stats to be sure"
   ]
  },
  {
   "cell_type": "markdown",
   "metadata": {},
   "source": [
    "<a id='ab-hypothesis'></a>\n",
    "\n",
    "### Split Tests Are Hypothesis Tests\n",
    "\n",
    "---\n",
    "\n",
    "Despite the business jargon, **split tests are just experiments to test hypotheses.** Using the scenario above, we can frame the null hypothesis like so:\n",
    "\n",
    "> **H0:** The difference in click-through rates between arms is 0. (If receive lab or retreiver it doesn't matter)\n",
    "\n",
    "The alternative hypothesis would be:\n",
    "\n",
    "> **H1:** The difference in click-through rates between arms is not 0. (There is a difference between retreiver and lab)\n",
    "\n",
    "It's important that the users sent to each arm are selected at random. If user assignments are affected by external factors — such as whether they are viewing the site on web or mobile browsers — then the arms have **selection bias**.\n",
    "\n",
    "**What is the problem with choosing a picture if users were not randomly assigned?**\n",
    "- could impact the outcome ex: if assign first half to lab and second half to retriever, could be assigning old customers to one and new to another which would be bad\n",
    "- Can't do a t-test on this data because not comparing means, instead looking at categoricals"
   ]
  },
  {
   "cell_type": "markdown",
   "metadata": {},
   "source": [
    "<a id='chisq'></a>\n",
    "\n",
    "### The $\\chi^2$ (Chi-Squared) Test of Independence\n",
    "\n",
    "---\n",
    "\n",
    "A popular Frequentist method for evaluating A/B tests is the $\\chi^2$ test of independence. The $\\chi^2$ test of independence is appropriate when you have categorical data and want to evaluate whether or not two groups are significantly different. \n",
    "\n",
    "Click-through rate can be thought of as binary categorical data: A user either clicked through (1) or did not (0). \n",
    "\n",
    "\"Independence\" refers to whether or not the outcome for the groups (the click-through rate) is independent of group assignment. Independence would mean that there is no relationship between the dog picture and the click-through rate. \n",
    "\n",
    "You can conduct the $\\chi^2$ test manually using what is known as a contingency table. For a detailed overview of the procedure, [this site](https://onlinecourses.science.psu.edu/stat500/node/56) is a good resource. In this course, we will use Python instead of manual calculation. That being said, it is important to address the formula for the $\\chi^2$ statistic:\n",
    "\n",
    "### $$ \\chi^2 = \\sum_{i=1}^{cells} \\frac{(O_i - E_i)^2}{E_i} $$\n",
    "\n",
    "Where: \n",
    "\n",
    "- $cells$ refers to the number of cells in the contingency table.\n",
    "- $O$ are the observed values (frequencies).\n",
    "- $E$ are the *expected* frequencies under perfect independence. \n",
    "\n",
    "**Using `stats.chi2_contingency`, calculate the $\\chi^2$ statistic and the associated p-value for our split test.**"
   ]
  },
  {
   "cell_type": "code",
   "execution_count": 39,
   "metadata": {
    "collapsed": true
   },
   "outputs": [],
   "source": [
    "data=[[A_wins, A_loss],\n",
    "     [B_wins, B_loss]]\n",
    "\n",
    "#assigne the values to a name\n",
    "chi2_statistic, p_val, dof, contingency_table = stats.chi2_contingency(data)"
   ]
  },
  {
   "cell_type": "code",
   "execution_count": 41,
   "metadata": {},
   "outputs": [
    {
     "data": {
      "text/plain": [
       "4.8929516079407485"
      ]
     },
     "execution_count": 41,
     "metadata": {},
     "output_type": "execute_result"
    }
   ],
   "source": [
    "# how far from distribution are you? Doesn't tell that much\n",
    "\n",
    "chi2_statistic"
   ]
  },
  {
   "cell_type": "code",
   "execution_count": 42,
   "metadata": {},
   "outputs": [
    {
     "data": {
      "text/plain": [
       "0.026966546110752252"
      ]
     },
     "execution_count": 42,
     "metadata": {},
     "output_type": "execute_result"
    }
   ],
   "source": [
    "# p value\n",
    "p_val"
   ]
  },
  {
   "cell_type": "markdown",
   "metadata": {},
   "source": [
    "**Explain what the p-value means in the context of our split test.**"
   ]
  },
  {
   "cell_type": "code",
   "execution_count": 44,
   "metadata": {
    "collapsed": true
   },
   "outputs": [],
   "source": [
    "# A: If the landing photo did not affect click-through we would expect a difference in click-through counts this large 2.7% of the time. There is a 2.7% chance this is all due to chance"
   ]
  },
  {
   "cell_type": "markdown",
   "metadata": {},
   "source": [
    "**Which arm is the \"winner\"? Should you choose to accept it as such? By how much?**"
   ]
  },
  {
   "cell_type": "code",
   "execution_count": 45,
   "metadata": {},
   "outputs": [
    {
     "ename": "SyntaxError",
     "evalue": "invalid syntax (<ipython-input-45-0dd988e19164>, line 2)",
     "output_type": "error",
     "traceback": [
      "\u001b[1;36m  File \u001b[1;32m\"<ipython-input-45-0dd988e19164>\"\u001b[1;36m, line \u001b[1;32m2\u001b[0m\n\u001b[1;33m    Arm As is the winner by a reasonable amount. Seems worth a follow up study, or to permanently change the landing page right off the bat\u001b[0m\n\u001b[1;37m         ^\u001b[0m\n\u001b[1;31mSyntaxError\u001b[0m\u001b[1;31m:\u001b[0m invalid syntax\n"
     ]
    }
   ],
   "source": [
    "# A: Arm As is the winner by a reasonable amount. Seems worth a follow up study, or to permanently change the landing page right off the bat"
   ]
  },
  {
   "cell_type": "markdown",
   "metadata": {},
   "source": [
    "<a id='significance'></a>\n",
    "\n",
    "### Statistical Significance, P-Values, The Alpha Threshold, and Type I Errors\n",
    "\n",
    "---\n",
    "\n",
    "The split test has concluded and you have performed your statistical analysis of the results.\n",
    "- **Arm A (the black lab picture) has a 23% higher click-through rate than Arm B (the golden retriever picture)**.\n",
    "- **The p-value of our test was 0.044**.\n",
    "\n",
    "Should we accept that the black lab picture is in fact more effective? Do we believe that the difference is real?\n",
    "\n",
    "**Statistical Significance**\n",
    "\n",
    "It's common to see Frequentist tests reported as \"statistically significant with p < 0.05\" or \"with p < 0.01.\" So, what does it mean for a test to be statistically significant? On the surface, these statements are simply saying that the calculated p-value is less than a specific value. The values of 0.05 and 0.01 are common in academic research but also arbitrary. \n",
    "\n",
    "What does having \"p < 0.05\" specifically mean?\n",
    "\n",
    "> **p < 0.05**: In hypothetical repetitions of this experiment with the same sample size, fewer than 5% of the experiments would have measured a difference between arms at least this extreme _by chance_.\n",
    "\n",
    "The same goes for \"p < 0.01.\" Here, however, it's framed in the context of null and alternative hypotheses:\n",
    "\n",
    "> **p < 0.01**: There is less than a 1% chance of accepting the alternative hypothesis when the null hypothesis is in fact true. \n",
    "\n",
    "---\n",
    "\n",
    "**Type I Errors and the Alpha Threshold ($\\alpha$**)\n",
    "\n",
    "As rigorous researchers, we would set a threshold for how likely we are to falsely accept the alternative hypothesis prior to running our experiment. This chance is known as a **type I error**.\n",
    "\n",
    "Type I errors are directly related to the p-value. \n",
    "\n",
    "> **The p-value represents the risk of encountering a type I error, given the sample size and measured effect.**\n",
    "\n",
    "It is important to set thresholds for type I errors before experiments begin. This prevents us from arbitrarily deciding whether or not we will accept an alternative hypothesis after we see a p-value.\n",
    "\n",
    "The threshold we set for the type I error rate is denoted with `alpha`. For example:\n",
    "\n",
    "- $\\alpha$ = 0.05 corresponds to a \"p < 0.05\" significance level.\n",
    "- $\\alpha$ = 0.01 corresponds to a \"p < 0.01\" significance level.\n",
    "\n",
    "**A Side Note on P-Value Thresholds:** \n",
    "\n",
    "\"p < 0.01\" is historically considered a \"conservative\" significance threshold. But it's actually not very conservative at all. \n",
    "\n",
    "This is, at worst, a 1/100 chance that an alternative hypothesis will be accepted when the result is in fact null. Now, think about all of the papers written and experiments run that have used a threshold of \"p < 0.01\" to validate their findings.\n"
   ]
  },
  {
   "cell_type": "markdown",
   "metadata": {},
   "source": [
    "## Summary\n",
    "----\n",
    "- Frequentists frame an experimental question in terms of a null hypothesis and an alternative hypothesis.\n",
    "    - The alternative hypothesis is the result you aim to support\n",
    "    - The null hypothesis states the absence of an effect\n",
    "- Use a t-test, or an ANOVA(F-test) for continuous data\n",
    "- Use a chi-2 test of independence for for frequencies of categorical data\n",
    "- We can implement hypothesis tests using `scipy.stats`\n",
    "- When running a hypothesis test you run the risk of two types of errors:\n",
    " - **Type I**: Incorrectly reject the null hypothesis (false positive)\n",
    "     - Alpha threshold is too high\n",
    "     - Too many repeated experiments\n",
    " - **Type II**: Fail to reject the null hypothesis when it actually is false (false negative)\n",
    " Impacted by effect size, low threshold, consistency of effect and sample size"
   ]
  },
  {
   "cell_type": "code",
   "execution_count": null,
   "metadata": {
    "collapsed": true
   },
   "outputs": [],
   "source": []
  }
 ],
 "metadata": {
  "kernelspec": {
   "display_name": "Python 2",
   "language": "python",
   "name": "python2"
  },
  "language_info": {
   "codemirror_mode": {
    "name": "ipython",
    "version": 2
   },
   "file_extension": ".py",
   "mimetype": "text/x-python",
   "name": "python",
   "nbconvert_exporter": "python",
   "pygments_lexer": "ipython2",
   "version": "2.7.14"
  }
 },
 "nbformat": 4,
 "nbformat_minor": 2
}
